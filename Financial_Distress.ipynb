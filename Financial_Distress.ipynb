{
  "nbformat": 4,
  "nbformat_minor": 0,
  "metadata": {
    "colab": {
      "provenance": []
    },
    "kernelspec": {
      "name": "python3",
      "display_name": "Python 3"
    },
    "language_info": {
      "name": "python"
    }
  },
  "cells": [
    {
      "cell_type": "code",
      "execution_count": null,
      "metadata": {
        "id": "PUHo1TIxadDL"
      },
      "outputs": [],
      "source": [
        "import pandas as pd\n",
        "import numpy as np\n",
        "from matplotlib import pyplot as plt\n",
        "import time\n",
        "%matplotlib inline"
      ]
    },
    {
      "cell_type": "code",
      "source": [
        "df = pd.read_csv('/content/Kenya_FD.csv')"
      ],
      "metadata": {
        "id": "2ktMfTuMdsib"
      },
      "execution_count": null,
      "outputs": []
    },
    {
      "cell_type": "code",
      "source": [
        "df"
      ],
      "metadata": {
        "colab": {
          "base_uri": "https://localhost:8080/",
          "height": 485
        },
        "id": "bPzgFoBA8wrb",
        "outputId": "22db9300-e537-4880-c522-3841426743f7"
      },
      "execution_count": null,
      "outputs": [
        {
          "output_type": "execute_result",
          "data": {
            "text/plain": [
              "    Company Name  Year    X1    X2      X3     X4    X5      X6    X7    X8  \\\n",
              "0            C_1  2011  0.53  0.81    4.15  11.71  0.38    2.49  0.83  0.07   \n",
              "1            C_2  2011  0.22  0.19    4.51   2.41  0.15   -2.46 -0.15  0.20   \n",
              "2            C_3  2011  1.87  0.82    7.93  21.71  1.25   12.30  0.12 -0.04   \n",
              "3            C_4  2011  2.88  0.68    4.68   3.37  2.37  161.36  0.40  0.05   \n",
              "4            C_5  2011  1.64  1.11    3.48   5.50  1.10   86.64  0.48 -0.10   \n",
              "..           ...   ...   ...   ...     ...    ...   ...     ...   ...   ...   \n",
              "413         C_34  2021  1.80  0.64    2.37   3.05  1.09    1.90  0.36 -0.07   \n",
              "414         C_35  2021  0.78  2.93    9.53  62.99  0.25   -0.71  0.14 -0.06   \n",
              "415         C_36  2021  2.52  2.45    5.97  13.73  1.33   67.35  0.12 -0.11   \n",
              "416         C_37  2021  2.41  0.54    0.00   3.27  2.05   14.17  1.00 -0.17   \n",
              "417         C_38  2021  2.05  1.43  174.23   2.36  2.04    0.00  0.31 -0.06   \n",
              "\n",
              "       X9   X10   X11  Status  \n",
              "0    1.18 -0.09  0.21       0  \n",
              "1   -0.03  0.47  0.25       0  \n",
              "2    0.39 -0.16  0.38       1  \n",
              "3    0.46 -0.21  0.67       1  \n",
              "4    0.87  0.00  0.51       1  \n",
              "..    ...   ...   ...     ...  \n",
              "413  0.08  0.19  0.26       1  \n",
              "414 -0.70 -0.21 -1.80       0  \n",
              "415  0.37 -0.13  0.27       1  \n",
              "416  0.24 -0.09  0.69       1  \n",
              "417  0.06 -0.03  0.23       1  \n",
              "\n",
              "[418 rows x 14 columns]"
            ],
            "text/html": [
              "\n",
              "  <div id=\"df-10c1b79a-df52-4c1e-83d5-ae4e3e4df529\">\n",
              "    <div class=\"colab-df-container\">\n",
              "      <div>\n",
              "<style scoped>\n",
              "    .dataframe tbody tr th:only-of-type {\n",
              "        vertical-align: middle;\n",
              "    }\n",
              "\n",
              "    .dataframe tbody tr th {\n",
              "        vertical-align: top;\n",
              "    }\n",
              "\n",
              "    .dataframe thead th {\n",
              "        text-align: right;\n",
              "    }\n",
              "</style>\n",
              "<table border=\"1\" class=\"dataframe\">\n",
              "  <thead>\n",
              "    <tr style=\"text-align: right;\">\n",
              "      <th></th>\n",
              "      <th>Company Name</th>\n",
              "      <th>Year</th>\n",
              "      <th>X1</th>\n",
              "      <th>X2</th>\n",
              "      <th>X3</th>\n",
              "      <th>X4</th>\n",
              "      <th>X5</th>\n",
              "      <th>X6</th>\n",
              "      <th>X7</th>\n",
              "      <th>X8</th>\n",
              "      <th>X9</th>\n",
              "      <th>X10</th>\n",
              "      <th>X11</th>\n",
              "      <th>Status</th>\n",
              "    </tr>\n",
              "  </thead>\n",
              "  <tbody>\n",
              "    <tr>\n",
              "      <th>0</th>\n",
              "      <td>C_1</td>\n",
              "      <td>2011</td>\n",
              "      <td>0.53</td>\n",
              "      <td>0.81</td>\n",
              "      <td>4.15</td>\n",
              "      <td>11.71</td>\n",
              "      <td>0.38</td>\n",
              "      <td>2.49</td>\n",
              "      <td>0.83</td>\n",
              "      <td>0.07</td>\n",
              "      <td>1.18</td>\n",
              "      <td>-0.09</td>\n",
              "      <td>0.21</td>\n",
              "      <td>0</td>\n",
              "    </tr>\n",
              "    <tr>\n",
              "      <th>1</th>\n",
              "      <td>C_2</td>\n",
              "      <td>2011</td>\n",
              "      <td>0.22</td>\n",
              "      <td>0.19</td>\n",
              "      <td>4.51</td>\n",
              "      <td>2.41</td>\n",
              "      <td>0.15</td>\n",
              "      <td>-2.46</td>\n",
              "      <td>-0.15</td>\n",
              "      <td>0.20</td>\n",
              "      <td>-0.03</td>\n",
              "      <td>0.47</td>\n",
              "      <td>0.25</td>\n",
              "      <td>0</td>\n",
              "    </tr>\n",
              "    <tr>\n",
              "      <th>2</th>\n",
              "      <td>C_3</td>\n",
              "      <td>2011</td>\n",
              "      <td>1.87</td>\n",
              "      <td>0.82</td>\n",
              "      <td>7.93</td>\n",
              "      <td>21.71</td>\n",
              "      <td>1.25</td>\n",
              "      <td>12.30</td>\n",
              "      <td>0.12</td>\n",
              "      <td>-0.04</td>\n",
              "      <td>0.39</td>\n",
              "      <td>-0.16</td>\n",
              "      <td>0.38</td>\n",
              "      <td>1</td>\n",
              "    </tr>\n",
              "    <tr>\n",
              "      <th>3</th>\n",
              "      <td>C_4</td>\n",
              "      <td>2011</td>\n",
              "      <td>2.88</td>\n",
              "      <td>0.68</td>\n",
              "      <td>4.68</td>\n",
              "      <td>3.37</td>\n",
              "      <td>2.37</td>\n",
              "      <td>161.36</td>\n",
              "      <td>0.40</td>\n",
              "      <td>0.05</td>\n",
              "      <td>0.46</td>\n",
              "      <td>-0.21</td>\n",
              "      <td>0.67</td>\n",
              "      <td>1</td>\n",
              "    </tr>\n",
              "    <tr>\n",
              "      <th>4</th>\n",
              "      <td>C_5</td>\n",
              "      <td>2011</td>\n",
              "      <td>1.64</td>\n",
              "      <td>1.11</td>\n",
              "      <td>3.48</td>\n",
              "      <td>5.50</td>\n",
              "      <td>1.10</td>\n",
              "      <td>86.64</td>\n",
              "      <td>0.48</td>\n",
              "      <td>-0.10</td>\n",
              "      <td>0.87</td>\n",
              "      <td>0.00</td>\n",
              "      <td>0.51</td>\n",
              "      <td>1</td>\n",
              "    </tr>\n",
              "    <tr>\n",
              "      <th>...</th>\n",
              "      <td>...</td>\n",
              "      <td>...</td>\n",
              "      <td>...</td>\n",
              "      <td>...</td>\n",
              "      <td>...</td>\n",
              "      <td>...</td>\n",
              "      <td>...</td>\n",
              "      <td>...</td>\n",
              "      <td>...</td>\n",
              "      <td>...</td>\n",
              "      <td>...</td>\n",
              "      <td>...</td>\n",
              "      <td>...</td>\n",
              "      <td>...</td>\n",
              "    </tr>\n",
              "    <tr>\n",
              "      <th>413</th>\n",
              "      <td>C_34</td>\n",
              "      <td>2021</td>\n",
              "      <td>1.80</td>\n",
              "      <td>0.64</td>\n",
              "      <td>2.37</td>\n",
              "      <td>3.05</td>\n",
              "      <td>1.09</td>\n",
              "      <td>1.90</td>\n",
              "      <td>0.36</td>\n",
              "      <td>-0.07</td>\n",
              "      <td>0.08</td>\n",
              "      <td>0.19</td>\n",
              "      <td>0.26</td>\n",
              "      <td>1</td>\n",
              "    </tr>\n",
              "    <tr>\n",
              "      <th>414</th>\n",
              "      <td>C_35</td>\n",
              "      <td>2021</td>\n",
              "      <td>0.78</td>\n",
              "      <td>2.93</td>\n",
              "      <td>9.53</td>\n",
              "      <td>62.99</td>\n",
              "      <td>0.25</td>\n",
              "      <td>-0.71</td>\n",
              "      <td>0.14</td>\n",
              "      <td>-0.06</td>\n",
              "      <td>-0.70</td>\n",
              "      <td>-0.21</td>\n",
              "      <td>-1.80</td>\n",
              "      <td>0</td>\n",
              "    </tr>\n",
              "    <tr>\n",
              "      <th>415</th>\n",
              "      <td>C_36</td>\n",
              "      <td>2021</td>\n",
              "      <td>2.52</td>\n",
              "      <td>2.45</td>\n",
              "      <td>5.97</td>\n",
              "      <td>13.73</td>\n",
              "      <td>1.33</td>\n",
              "      <td>67.35</td>\n",
              "      <td>0.12</td>\n",
              "      <td>-0.11</td>\n",
              "      <td>0.37</td>\n",
              "      <td>-0.13</td>\n",
              "      <td>0.27</td>\n",
              "      <td>1</td>\n",
              "    </tr>\n",
              "    <tr>\n",
              "      <th>416</th>\n",
              "      <td>C_37</td>\n",
              "      <td>2021</td>\n",
              "      <td>2.41</td>\n",
              "      <td>0.54</td>\n",
              "      <td>0.00</td>\n",
              "      <td>3.27</td>\n",
              "      <td>2.05</td>\n",
              "      <td>14.17</td>\n",
              "      <td>1.00</td>\n",
              "      <td>-0.17</td>\n",
              "      <td>0.24</td>\n",
              "      <td>-0.09</td>\n",
              "      <td>0.69</td>\n",
              "      <td>1</td>\n",
              "    </tr>\n",
              "    <tr>\n",
              "      <th>417</th>\n",
              "      <td>C_38</td>\n",
              "      <td>2021</td>\n",
              "      <td>2.05</td>\n",
              "      <td>1.43</td>\n",
              "      <td>174.23</td>\n",
              "      <td>2.36</td>\n",
              "      <td>2.04</td>\n",
              "      <td>0.00</td>\n",
              "      <td>0.31</td>\n",
              "      <td>-0.06</td>\n",
              "      <td>0.06</td>\n",
              "      <td>-0.03</td>\n",
              "      <td>0.23</td>\n",
              "      <td>1</td>\n",
              "    </tr>\n",
              "  </tbody>\n",
              "</table>\n",
              "<p>418 rows × 14 columns</p>\n",
              "</div>\n",
              "      <button class=\"colab-df-convert\" onclick=\"convertToInteractive('df-10c1b79a-df52-4c1e-83d5-ae4e3e4df529')\"\n",
              "              title=\"Convert this dataframe to an interactive table.\"\n",
              "              style=\"display:none;\">\n",
              "        \n",
              "  <svg xmlns=\"http://www.w3.org/2000/svg\" height=\"24px\"viewBox=\"0 0 24 24\"\n",
              "       width=\"24px\">\n",
              "    <path d=\"M0 0h24v24H0V0z\" fill=\"none\"/>\n",
              "    <path d=\"M18.56 5.44l.94 2.06.94-2.06 2.06-.94-2.06-.94-.94-2.06-.94 2.06-2.06.94zm-11 1L8.5 8.5l.94-2.06 2.06-.94-2.06-.94L8.5 2.5l-.94 2.06-2.06.94zm10 10l.94 2.06.94-2.06 2.06-.94-2.06-.94-.94-2.06-.94 2.06-2.06.94z\"/><path d=\"M17.41 7.96l-1.37-1.37c-.4-.4-.92-.59-1.43-.59-.52 0-1.04.2-1.43.59L10.3 9.45l-7.72 7.72c-.78.78-.78 2.05 0 2.83L4 21.41c.39.39.9.59 1.41.59.51 0 1.02-.2 1.41-.59l7.78-7.78 2.81-2.81c.8-.78.8-2.07 0-2.86zM5.41 20L4 18.59l7.72-7.72 1.47 1.35L5.41 20z\"/>\n",
              "  </svg>\n",
              "      </button>\n",
              "      \n",
              "  <style>\n",
              "    .colab-df-container {\n",
              "      display:flex;\n",
              "      flex-wrap:wrap;\n",
              "      gap: 12px;\n",
              "    }\n",
              "\n",
              "    .colab-df-convert {\n",
              "      background-color: #E8F0FE;\n",
              "      border: none;\n",
              "      border-radius: 50%;\n",
              "      cursor: pointer;\n",
              "      display: none;\n",
              "      fill: #1967D2;\n",
              "      height: 32px;\n",
              "      padding: 0 0 0 0;\n",
              "      width: 32px;\n",
              "    }\n",
              "\n",
              "    .colab-df-convert:hover {\n",
              "      background-color: #E2EBFA;\n",
              "      box-shadow: 0px 1px 2px rgba(60, 64, 67, 0.3), 0px 1px 3px 1px rgba(60, 64, 67, 0.15);\n",
              "      fill: #174EA6;\n",
              "    }\n",
              "\n",
              "    [theme=dark] .colab-df-convert {\n",
              "      background-color: #3B4455;\n",
              "      fill: #D2E3FC;\n",
              "    }\n",
              "\n",
              "    [theme=dark] .colab-df-convert:hover {\n",
              "      background-color: #434B5C;\n",
              "      box-shadow: 0px 1px 3px 1px rgba(0, 0, 0, 0.15);\n",
              "      filter: drop-shadow(0px 1px 2px rgba(0, 0, 0, 0.3));\n",
              "      fill: #FFFFFF;\n",
              "    }\n",
              "  </style>\n",
              "\n",
              "      <script>\n",
              "        const buttonEl =\n",
              "          document.querySelector('#df-10c1b79a-df52-4c1e-83d5-ae4e3e4df529 button.colab-df-convert');\n",
              "        buttonEl.style.display =\n",
              "          google.colab.kernel.accessAllowed ? 'block' : 'none';\n",
              "\n",
              "        async function convertToInteractive(key) {\n",
              "          const element = document.querySelector('#df-10c1b79a-df52-4c1e-83d5-ae4e3e4df529');\n",
              "          const dataTable =\n",
              "            await google.colab.kernel.invokeFunction('convertToInteractive',\n",
              "                                                     [key], {});\n",
              "          if (!dataTable) return;\n",
              "\n",
              "          const docLinkHtml = 'Like what you see? Visit the ' +\n",
              "            '<a target=\"_blank\" href=https://colab.research.google.com/notebooks/data_table.ipynb>data table notebook</a>'\n",
              "            + ' to learn more about interactive tables.';\n",
              "          element.innerHTML = '';\n",
              "          dataTable['output_type'] = 'display_data';\n",
              "          await google.colab.output.renderOutput(dataTable, element);\n",
              "          const docLink = document.createElement('div');\n",
              "          docLink.innerHTML = docLinkHtml;\n",
              "          element.appendChild(docLink);\n",
              "        }\n",
              "      </script>\n",
              "    </div>\n",
              "  </div>\n",
              "  "
            ]
          },
          "metadata": {},
          "execution_count": 3
        }
      ]
    },
    {
      "cell_type": "code",
      "source": [
        "print(df.info())"
      ],
      "metadata": {
        "colab": {
          "base_uri": "https://localhost:8080/"
        },
        "id": "o165DQWMlvCO",
        "outputId": "0ac19ebe-945f-4a2c-c642-ef3f1aab919c"
      },
      "execution_count": null,
      "outputs": [
        {
          "output_type": "stream",
          "name": "stdout",
          "text": [
            "<class 'pandas.core.frame.DataFrame'>\n",
            "RangeIndex: 418 entries, 0 to 417\n",
            "Data columns (total 14 columns):\n",
            " #   Column        Non-Null Count  Dtype  \n",
            "---  ------        --------------  -----  \n",
            " 0   Company Name  418 non-null    object \n",
            " 1   Year          418 non-null    int64  \n",
            " 2   X1            418 non-null    float64\n",
            " 3   X2            418 non-null    float64\n",
            " 4   X3            418 non-null    float64\n",
            " 5   X4            418 non-null    float64\n",
            " 6   X5            418 non-null    float64\n",
            " 7   X6            418 non-null    float64\n",
            " 8   X7            418 non-null    float64\n",
            " 9   X8            418 non-null    float64\n",
            " 10  X9            418 non-null    float64\n",
            " 11  X10           418 non-null    float64\n",
            " 12  X11           418 non-null    float64\n",
            " 13  Status        418 non-null    int64  \n",
            "dtypes: float64(11), int64(2), object(1)\n",
            "memory usage: 45.8+ KB\n",
            "None\n"
          ]
        }
      ]
    },
    {
      "cell_type": "code",
      "source": [
        "df.columns"
      ],
      "metadata": {
        "colab": {
          "base_uri": "https://localhost:8080/"
        },
        "id": "kU4iLl2GfbYK",
        "outputId": "b2cdead0-ea32-494b-87f7-414e3fe696fd"
      },
      "execution_count": null,
      "outputs": [
        {
          "output_type": "execute_result",
          "data": {
            "text/plain": [
              "Index(['Company Name', 'Year', 'X1', 'X2', 'X3', 'X4', 'X5', 'X6', 'X7', 'X8',\n",
              "       'X9', 'X10', 'X11', 'Status'],\n",
              "      dtype='object')"
            ]
          },
          "metadata": {},
          "execution_count": 5
        }
      ]
    },
    {
      "cell_type": "code",
      "source": [
        "df.rename(columns = {'Company Name':'IDRSSD'}, inplace = True)"
      ],
      "metadata": {
        "id": "j_au7RBhjLDw"
      },
      "execution_count": null,
      "outputs": []
    },
    {
      "cell_type": "code",
      "source": [
        "df_failure = df[df.Status == 0.0]"
      ],
      "metadata": {
        "id": "wiuzhGFPfiNK"
      },
      "execution_count": null,
      "outputs": []
    },
    {
      "cell_type": "code",
      "source": [
        "df_failure"
      ],
      "metadata": {
        "colab": {
          "base_uri": "https://localhost:8080/",
          "height": 468
        },
        "id": "GGkuvAvk9Ug0",
        "outputId": "91f1c1b4-1ece-4927-f7cb-1c4b953170e4"
      },
      "execution_count": null,
      "outputs": [
        {
          "output_type": "execute_result",
          "data": {
            "text/plain": [
              "    IDRSSD  Year    X1    X2     X3     X4    X5     X6    X7    X8    X9  \\\n",
              "0      C_1  2011  0.53  0.81   4.15  11.71  0.38   2.49  0.83  0.07  1.18   \n",
              "1      C_2  2011  0.22  0.19   4.51   2.41  0.15  -2.46 -0.15  0.20 -0.03   \n",
              "5      C_6  2011  0.93  1.30   3.73   9.30  0.32   2.67  0.18 -0.18 -0.08   \n",
              "9     C_10  2011  0.50  0.32   4.64   4.20  0.28  -0.60  0.16  0.06 -0.03   \n",
              "10    C_11  2011  0.85  1.04   4.53   8.43  0.53   6.45  0.48 -0.09  0.62   \n",
              "..     ...   ...   ...   ...    ...    ...   ...    ...   ...   ...   ...   \n",
              "400   C_21  2021  0.90  0.75   6.80   6.49  0.57  11.01  0.33 -0.10  0.42   \n",
              "403   C_24  2021  0.32  0.92   7.66   4.83  0.23  37.48  0.36 -0.16  0.43   \n",
              "407   C_28  2021  0.56  0.91  12.69  11.91  0.49  10.73  0.49 -0.07  0.88   \n",
              "410   C_31  2021  1.00  1.13   4.24   4.06  0.74   3.00  0.60 -0.09  0.29   \n",
              "414   C_35  2021  0.78  2.93   9.53  62.99  0.25  -0.71  0.14 -0.06 -0.70   \n",
              "\n",
              "      X10   X11  Status  \n",
              "0   -0.09  0.21       0  \n",
              "1    0.47  0.25       0  \n",
              "5   -0.29  0.30       0  \n",
              "9   -0.03 -0.17       0  \n",
              "10  -0.21  0.14       0  \n",
              "..    ...   ...     ...  \n",
              "400 -0.24  0.14       0  \n",
              "403 -0.13  0.35       0  \n",
              "407 -0.11  0.60       0  \n",
              "410 -0.02  0.27       0  \n",
              "414 -0.21 -1.80       0  \n",
              "\n",
              "[137 rows x 14 columns]"
            ],
            "text/html": [
              "\n",
              "  <div id=\"df-5d087669-93c5-437d-b0d0-0d5f09ddfe20\">\n",
              "    <div class=\"colab-df-container\">\n",
              "      <div>\n",
              "<style scoped>\n",
              "    .dataframe tbody tr th:only-of-type {\n",
              "        vertical-align: middle;\n",
              "    }\n",
              "\n",
              "    .dataframe tbody tr th {\n",
              "        vertical-align: top;\n",
              "    }\n",
              "\n",
              "    .dataframe thead th {\n",
              "        text-align: right;\n",
              "    }\n",
              "</style>\n",
              "<table border=\"1\" class=\"dataframe\">\n",
              "  <thead>\n",
              "    <tr style=\"text-align: right;\">\n",
              "      <th></th>\n",
              "      <th>IDRSSD</th>\n",
              "      <th>Year</th>\n",
              "      <th>X1</th>\n",
              "      <th>X2</th>\n",
              "      <th>X3</th>\n",
              "      <th>X4</th>\n",
              "      <th>X5</th>\n",
              "      <th>X6</th>\n",
              "      <th>X7</th>\n",
              "      <th>X8</th>\n",
              "      <th>X9</th>\n",
              "      <th>X10</th>\n",
              "      <th>X11</th>\n",
              "      <th>Status</th>\n",
              "    </tr>\n",
              "  </thead>\n",
              "  <tbody>\n",
              "    <tr>\n",
              "      <th>0</th>\n",
              "      <td>C_1</td>\n",
              "      <td>2011</td>\n",
              "      <td>0.53</td>\n",
              "      <td>0.81</td>\n",
              "      <td>4.15</td>\n",
              "      <td>11.71</td>\n",
              "      <td>0.38</td>\n",
              "      <td>2.49</td>\n",
              "      <td>0.83</td>\n",
              "      <td>0.07</td>\n",
              "      <td>1.18</td>\n",
              "      <td>-0.09</td>\n",
              "      <td>0.21</td>\n",
              "      <td>0</td>\n",
              "    </tr>\n",
              "    <tr>\n",
              "      <th>1</th>\n",
              "      <td>C_2</td>\n",
              "      <td>2011</td>\n",
              "      <td>0.22</td>\n",
              "      <td>0.19</td>\n",
              "      <td>4.51</td>\n",
              "      <td>2.41</td>\n",
              "      <td>0.15</td>\n",
              "      <td>-2.46</td>\n",
              "      <td>-0.15</td>\n",
              "      <td>0.20</td>\n",
              "      <td>-0.03</td>\n",
              "      <td>0.47</td>\n",
              "      <td>0.25</td>\n",
              "      <td>0</td>\n",
              "    </tr>\n",
              "    <tr>\n",
              "      <th>5</th>\n",
              "      <td>C_6</td>\n",
              "      <td>2011</td>\n",
              "      <td>0.93</td>\n",
              "      <td>1.30</td>\n",
              "      <td>3.73</td>\n",
              "      <td>9.30</td>\n",
              "      <td>0.32</td>\n",
              "      <td>2.67</td>\n",
              "      <td>0.18</td>\n",
              "      <td>-0.18</td>\n",
              "      <td>-0.08</td>\n",
              "      <td>-0.29</td>\n",
              "      <td>0.30</td>\n",
              "      <td>0</td>\n",
              "    </tr>\n",
              "    <tr>\n",
              "      <th>9</th>\n",
              "      <td>C_10</td>\n",
              "      <td>2011</td>\n",
              "      <td>0.50</td>\n",
              "      <td>0.32</td>\n",
              "      <td>4.64</td>\n",
              "      <td>4.20</td>\n",
              "      <td>0.28</td>\n",
              "      <td>-0.60</td>\n",
              "      <td>0.16</td>\n",
              "      <td>0.06</td>\n",
              "      <td>-0.03</td>\n",
              "      <td>-0.03</td>\n",
              "      <td>-0.17</td>\n",
              "      <td>0</td>\n",
              "    </tr>\n",
              "    <tr>\n",
              "      <th>10</th>\n",
              "      <td>C_11</td>\n",
              "      <td>2011</td>\n",
              "      <td>0.85</td>\n",
              "      <td>1.04</td>\n",
              "      <td>4.53</td>\n",
              "      <td>8.43</td>\n",
              "      <td>0.53</td>\n",
              "      <td>6.45</td>\n",
              "      <td>0.48</td>\n",
              "      <td>-0.09</td>\n",
              "      <td>0.62</td>\n",
              "      <td>-0.21</td>\n",
              "      <td>0.14</td>\n",
              "      <td>0</td>\n",
              "    </tr>\n",
              "    <tr>\n",
              "      <th>...</th>\n",
              "      <td>...</td>\n",
              "      <td>...</td>\n",
              "      <td>...</td>\n",
              "      <td>...</td>\n",
              "      <td>...</td>\n",
              "      <td>...</td>\n",
              "      <td>...</td>\n",
              "      <td>...</td>\n",
              "      <td>...</td>\n",
              "      <td>...</td>\n",
              "      <td>...</td>\n",
              "      <td>...</td>\n",
              "      <td>...</td>\n",
              "      <td>...</td>\n",
              "    </tr>\n",
              "    <tr>\n",
              "      <th>400</th>\n",
              "      <td>C_21</td>\n",
              "      <td>2021</td>\n",
              "      <td>0.90</td>\n",
              "      <td>0.75</td>\n",
              "      <td>6.80</td>\n",
              "      <td>6.49</td>\n",
              "      <td>0.57</td>\n",
              "      <td>11.01</td>\n",
              "      <td>0.33</td>\n",
              "      <td>-0.10</td>\n",
              "      <td>0.42</td>\n",
              "      <td>-0.24</td>\n",
              "      <td>0.14</td>\n",
              "      <td>0</td>\n",
              "    </tr>\n",
              "    <tr>\n",
              "      <th>403</th>\n",
              "      <td>C_24</td>\n",
              "      <td>2021</td>\n",
              "      <td>0.32</td>\n",
              "      <td>0.92</td>\n",
              "      <td>7.66</td>\n",
              "      <td>4.83</td>\n",
              "      <td>0.23</td>\n",
              "      <td>37.48</td>\n",
              "      <td>0.36</td>\n",
              "      <td>-0.16</td>\n",
              "      <td>0.43</td>\n",
              "      <td>-0.13</td>\n",
              "      <td>0.35</td>\n",
              "      <td>0</td>\n",
              "    </tr>\n",
              "    <tr>\n",
              "      <th>407</th>\n",
              "      <td>C_28</td>\n",
              "      <td>2021</td>\n",
              "      <td>0.56</td>\n",
              "      <td>0.91</td>\n",
              "      <td>12.69</td>\n",
              "      <td>11.91</td>\n",
              "      <td>0.49</td>\n",
              "      <td>10.73</td>\n",
              "      <td>0.49</td>\n",
              "      <td>-0.07</td>\n",
              "      <td>0.88</td>\n",
              "      <td>-0.11</td>\n",
              "      <td>0.60</td>\n",
              "      <td>0</td>\n",
              "    </tr>\n",
              "    <tr>\n",
              "      <th>410</th>\n",
              "      <td>C_31</td>\n",
              "      <td>2021</td>\n",
              "      <td>1.00</td>\n",
              "      <td>1.13</td>\n",
              "      <td>4.24</td>\n",
              "      <td>4.06</td>\n",
              "      <td>0.74</td>\n",
              "      <td>3.00</td>\n",
              "      <td>0.60</td>\n",
              "      <td>-0.09</td>\n",
              "      <td>0.29</td>\n",
              "      <td>-0.02</td>\n",
              "      <td>0.27</td>\n",
              "      <td>0</td>\n",
              "    </tr>\n",
              "    <tr>\n",
              "      <th>414</th>\n",
              "      <td>C_35</td>\n",
              "      <td>2021</td>\n",
              "      <td>0.78</td>\n",
              "      <td>2.93</td>\n",
              "      <td>9.53</td>\n",
              "      <td>62.99</td>\n",
              "      <td>0.25</td>\n",
              "      <td>-0.71</td>\n",
              "      <td>0.14</td>\n",
              "      <td>-0.06</td>\n",
              "      <td>-0.70</td>\n",
              "      <td>-0.21</td>\n",
              "      <td>-1.80</td>\n",
              "      <td>0</td>\n",
              "    </tr>\n",
              "  </tbody>\n",
              "</table>\n",
              "<p>137 rows × 14 columns</p>\n",
              "</div>\n",
              "      <button class=\"colab-df-convert\" onclick=\"convertToInteractive('df-5d087669-93c5-437d-b0d0-0d5f09ddfe20')\"\n",
              "              title=\"Convert this dataframe to an interactive table.\"\n",
              "              style=\"display:none;\">\n",
              "        \n",
              "  <svg xmlns=\"http://www.w3.org/2000/svg\" height=\"24px\"viewBox=\"0 0 24 24\"\n",
              "       width=\"24px\">\n",
              "    <path d=\"M0 0h24v24H0V0z\" fill=\"none\"/>\n",
              "    <path d=\"M18.56 5.44l.94 2.06.94-2.06 2.06-.94-2.06-.94-.94-2.06-.94 2.06-2.06.94zm-11 1L8.5 8.5l.94-2.06 2.06-.94-2.06-.94L8.5 2.5l-.94 2.06-2.06.94zm10 10l.94 2.06.94-2.06 2.06-.94-2.06-.94-.94-2.06-.94 2.06-2.06.94z\"/><path d=\"M17.41 7.96l-1.37-1.37c-.4-.4-.92-.59-1.43-.59-.52 0-1.04.2-1.43.59L10.3 9.45l-7.72 7.72c-.78.78-.78 2.05 0 2.83L4 21.41c.39.39.9.59 1.41.59.51 0 1.02-.2 1.41-.59l7.78-7.78 2.81-2.81c.8-.78.8-2.07 0-2.86zM5.41 20L4 18.59l7.72-7.72 1.47 1.35L5.41 20z\"/>\n",
              "  </svg>\n",
              "      </button>\n",
              "      \n",
              "  <style>\n",
              "    .colab-df-container {\n",
              "      display:flex;\n",
              "      flex-wrap:wrap;\n",
              "      gap: 12px;\n",
              "    }\n",
              "\n",
              "    .colab-df-convert {\n",
              "      background-color: #E8F0FE;\n",
              "      border: none;\n",
              "      border-radius: 50%;\n",
              "      cursor: pointer;\n",
              "      display: none;\n",
              "      fill: #1967D2;\n",
              "      height: 32px;\n",
              "      padding: 0 0 0 0;\n",
              "      width: 32px;\n",
              "    }\n",
              "\n",
              "    .colab-df-convert:hover {\n",
              "      background-color: #E2EBFA;\n",
              "      box-shadow: 0px 1px 2px rgba(60, 64, 67, 0.3), 0px 1px 3px 1px rgba(60, 64, 67, 0.15);\n",
              "      fill: #174EA6;\n",
              "    }\n",
              "\n",
              "    [theme=dark] .colab-df-convert {\n",
              "      background-color: #3B4455;\n",
              "      fill: #D2E3FC;\n",
              "    }\n",
              "\n",
              "    [theme=dark] .colab-df-convert:hover {\n",
              "      background-color: #434B5C;\n",
              "      box-shadow: 0px 1px 3px 1px rgba(0, 0, 0, 0.15);\n",
              "      filter: drop-shadow(0px 1px 2px rgba(0, 0, 0, 0.3));\n",
              "      fill: #FFFFFF;\n",
              "    }\n",
              "  </style>\n",
              "\n",
              "      <script>\n",
              "        const buttonEl =\n",
              "          document.querySelector('#df-5d087669-93c5-437d-b0d0-0d5f09ddfe20 button.colab-df-convert');\n",
              "        buttonEl.style.display =\n",
              "          google.colab.kernel.accessAllowed ? 'block' : 'none';\n",
              "\n",
              "        async function convertToInteractive(key) {\n",
              "          const element = document.querySelector('#df-5d087669-93c5-437d-b0d0-0d5f09ddfe20');\n",
              "          const dataTable =\n",
              "            await google.colab.kernel.invokeFunction('convertToInteractive',\n",
              "                                                     [key], {});\n",
              "          if (!dataTable) return;\n",
              "\n",
              "          const docLinkHtml = 'Like what you see? Visit the ' +\n",
              "            '<a target=\"_blank\" href=https://colab.research.google.com/notebooks/data_table.ipynb>data table notebook</a>'\n",
              "            + ' to learn more about interactive tables.';\n",
              "          element.innerHTML = '';\n",
              "          dataTable['output_type'] = 'display_data';\n",
              "          await google.colab.output.renderOutput(dataTable, element);\n",
              "          const docLink = document.createElement('div');\n",
              "          docLink.innerHTML = docLinkHtml;\n",
              "          element.appendChild(docLink);\n",
              "        }\n",
              "      </script>\n",
              "    </div>\n",
              "  </div>\n",
              "  "
            ]
          },
          "metadata": {},
          "execution_count": 8
        }
      ]
    },
    {
      "cell_type": "code",
      "source": [
        "df_failure['Year'] = pd.to_datetime(df_failure['Year'],format='%Y')"
      ],
      "metadata": {
        "colab": {
          "base_uri": "https://localhost:8080/"
        },
        "id": "j6NfF83cgNj9",
        "outputId": "b6d4862f-8c90-4ee8-e075-60cd055dbb64"
      },
      "execution_count": null,
      "outputs": [
        {
          "output_type": "stream",
          "name": "stderr",
          "text": [
            "<ipython-input-9-cb98a8f1a61d>:1: SettingWithCopyWarning: \n",
            "A value is trying to be set on a copy of a slice from a DataFrame.\n",
            "Try using .loc[row_indexer,col_indexer] = value instead\n",
            "\n",
            "See the caveats in the documentation: https://pandas.pydata.org/pandas-docs/stable/user_guide/indexing.html#returning-a-view-versus-a-copy\n",
            "  df_failure['Year'] = pd.to_datetime(df_failure['Year'],format='%Y')\n"
          ]
        }
      ]
    },
    {
      "cell_type": "code",
      "source": [
        "df_failure['Year']"
      ],
      "metadata": {
        "colab": {
          "base_uri": "https://localhost:8080/"
        },
        "id": "m1d-_Byzxoip",
        "outputId": "f4045b47-b4a6-427a-d766-8c0b37aa1cf7"
      },
      "execution_count": null,
      "outputs": [
        {
          "output_type": "execute_result",
          "data": {
            "text/plain": [
              "0     2011-01-01\n",
              "1     2011-01-01\n",
              "5     2011-01-01\n",
              "9     2011-01-01\n",
              "10    2011-01-01\n",
              "         ...    \n",
              "400   2021-01-01\n",
              "403   2021-01-01\n",
              "407   2021-01-01\n",
              "410   2021-01-01\n",
              "414   2021-01-01\n",
              "Name: Year, Length: 137, dtype: datetime64[ns]"
            ]
          },
          "metadata": {},
          "execution_count": 10
        }
      ]
    },
    {
      "cell_type": "code",
      "source": [
        "train_end_timestamp = pd.Timestamp('2016-01-01')\n",
        "validation_end_timestamp = pd.Timestamp('2019-01-01')\n",
        "train_IDRSSD = df_failure[df_failure.Year <= train_end_timestamp].IDRSSD.values\n",
        "validation_IDRSSD = df_failure[(df_failure.Year> train_end_timestamp) & (df_failure.Year <= validation_end_timestamp)].IDRSSD.values\n",
        "test_IDRSSD = df_failure[df_failure.Year > validation_end_timestamp].IDRSSD.values"
      ],
      "metadata": {
        "id": "2CTlab5-gZSa"
      },
      "execution_count": null,
      "outputs": []
    },
    {
      "cell_type": "code",
      "source": [
        "train_IDRSSD"
      ],
      "metadata": {
        "colab": {
          "base_uri": "https://localhost:8080/"
        },
        "id": "RawPxHPagDuG",
        "outputId": "b2fbb0e0-cf59-4ad4-ea89-899037fa22ca"
      },
      "execution_count": null,
      "outputs": [
        {
          "output_type": "execute_result",
          "data": {
            "text/plain": [
              "array(['C_1', 'C_2', 'C_6', 'C_10', 'C_11', 'C_12', 'C_13', 'C_15',\n",
              "       'C_18', 'C_21', 'C_23', 'C_24', 'C_28', 'C_31', 'C_33', 'C_34',\n",
              "       'C_35', 'C_1', 'C_2', 'C_6', 'C_10', 'C_11', 'C_12', 'C_14',\n",
              "       'C_15', 'C_18', 'C_21', 'C_23', 'C_24', 'C_28', 'C_31', 'C_33',\n",
              "       'C_34', 'C_35', 'C_1', 'C_2', 'C_6', 'C_8', 'C_10', 'C_11', 'C_12',\n",
              "       'C_14', 'C_15', 'C_18', 'C_21', 'C_23', 'C_24', 'C_28', 'C_29',\n",
              "       'C_31', 'C_33', 'C_34', 'C_35', 'C_2', 'C_6', 'C_10', 'C_11',\n",
              "       'C_12', 'C_14', 'C_15', 'C_18', 'C_21', 'C_24', 'C_29', 'C_31',\n",
              "       'C_33', 'C_34', 'C_35', 'C_2', 'C_10', 'C_11', 'C_12', 'C_15',\n",
              "       'C_18', 'C_21', 'C_24', 'C_28', 'C_31', 'C_34', 'C_35', 'C_10',\n",
              "       'C_12', 'C_13', 'C_14', 'C_15', 'C_18', 'C_21', 'C_24', 'C_28',\n",
              "       'C_35'], dtype=object)"
            ]
          },
          "metadata": {},
          "execution_count": 12
        }
      ]
    },
    {
      "cell_type": "code",
      "source": [
        "print(train_IDRSSD.shape, validation_IDRSSD.shape, test_IDRSSD.shape)"
      ],
      "metadata": {
        "colab": {
          "base_uri": "https://localhost:8080/"
        },
        "id": "qmhoV3cckbTx",
        "outputId": "561558c1-94fe-4515-98f4-0635eebdfe60"
      },
      "execution_count": null,
      "outputs": [
        {
          "output_type": "stream",
          "name": "stdout",
          "text": [
            "(90,) (29,) (18,)\n"
          ]
        }
      ]
    },
    {
      "cell_type": "code",
      "source": [
        "train_df = df[df.IDRSSD.isin(train_IDRSSD)]\n",
        "validation_df = df[df.IDRSSD.isin(validation_IDRSSD)]\n",
        "test_df = df[df.IDRSSD.isin(test_IDRSSD)]\n",
        "#This code creates train, validation, and test sets of IDRSSD values \n",
        "#from the dataframe df_failure based on the timestamp of each failure"
      ],
      "metadata": {
        "id": "6Wxy8XsrknK4"
      },
      "execution_count": null,
      "outputs": []
    },
    {
      "cell_type": "code",
      "source": [
        "validation_df"
      ],
      "metadata": {
        "colab": {
          "base_uri": "https://localhost:8080/",
          "height": 468
        },
        "id": "ZteGENk7euyo",
        "outputId": "098c8b88-33ee-4f6f-a600-75b21f96318c"
      },
      "execution_count": null,
      "outputs": [
        {
          "output_type": "execute_result",
          "data": {
            "text/plain": [
              "    IDRSSD  Year    X1    X2     X3     X4    X5     X6    X7    X8    X9  \\\n",
              "0      C_1  2011  0.53  0.81   4.15  11.71  0.38   2.49  0.83  0.07  1.18   \n",
              "8      C_9  2011  5.52  0.12   0.00   0.00  0.00   0.00  0.28 -0.14  0.35   \n",
              "9     C_10  2011  0.50  0.32   4.64   4.20  0.28  -0.60  0.16  0.06 -0.03   \n",
              "10    C_11  2011  0.85  1.04   4.53   8.43  0.53   6.45  0.48 -0.09  0.62   \n",
              "11    C_12  2011  0.14  0.06   2.93   1.79  0.08 -31.46 -0.37 -0.03 -0.03   \n",
              "..     ...   ...   ...   ...    ...    ...   ...    ...   ...   ...   ...   \n",
              "400   C_21  2021  0.90  0.75   6.80   6.49  0.57  11.01  0.33 -0.10  0.42   \n",
              "407   C_28  2021  0.56  0.91  12.69  11.91  0.49  10.73  0.49 -0.07  0.88   \n",
              "410   C_31  2021  1.00  1.13   4.24   4.06  0.74   3.00  0.60 -0.09  0.29   \n",
              "412   C_33  2021  1.50  0.44   3.73   4.43  1.26   5.72  0.77 -0.09  0.15   \n",
              "414   C_35  2021  0.78  2.93   9.53  62.99  0.25  -0.71  0.14 -0.06 -0.70   \n",
              "\n",
              "      X10   X11  Status  \n",
              "0   -0.09  0.21       0  \n",
              "8   -0.02  0.12       1  \n",
              "9   -0.03 -0.17       0  \n",
              "10  -0.21  0.14       0  \n",
              "11   0.29  0.56       0  \n",
              "..    ...   ...     ...  \n",
              "400 -0.24  0.14       0  \n",
              "407 -0.11  0.60       0  \n",
              "410 -0.02  0.27       0  \n",
              "412 -0.18  0.21       1  \n",
              "414 -0.21 -1.80       0  \n",
              "\n",
              "[165 rows x 14 columns]"
            ],
            "text/html": [
              "\n",
              "  <div id=\"df-6d08bd62-0bd2-47ca-9245-c5b4e65c8b08\">\n",
              "    <div class=\"colab-df-container\">\n",
              "      <div>\n",
              "<style scoped>\n",
              "    .dataframe tbody tr th:only-of-type {\n",
              "        vertical-align: middle;\n",
              "    }\n",
              "\n",
              "    .dataframe tbody tr th {\n",
              "        vertical-align: top;\n",
              "    }\n",
              "\n",
              "    .dataframe thead th {\n",
              "        text-align: right;\n",
              "    }\n",
              "</style>\n",
              "<table border=\"1\" class=\"dataframe\">\n",
              "  <thead>\n",
              "    <tr style=\"text-align: right;\">\n",
              "      <th></th>\n",
              "      <th>IDRSSD</th>\n",
              "      <th>Year</th>\n",
              "      <th>X1</th>\n",
              "      <th>X2</th>\n",
              "      <th>X3</th>\n",
              "      <th>X4</th>\n",
              "      <th>X5</th>\n",
              "      <th>X6</th>\n",
              "      <th>X7</th>\n",
              "      <th>X8</th>\n",
              "      <th>X9</th>\n",
              "      <th>X10</th>\n",
              "      <th>X11</th>\n",
              "      <th>Status</th>\n",
              "    </tr>\n",
              "  </thead>\n",
              "  <tbody>\n",
              "    <tr>\n",
              "      <th>0</th>\n",
              "      <td>C_1</td>\n",
              "      <td>2011</td>\n",
              "      <td>0.53</td>\n",
              "      <td>0.81</td>\n",
              "      <td>4.15</td>\n",
              "      <td>11.71</td>\n",
              "      <td>0.38</td>\n",
              "      <td>2.49</td>\n",
              "      <td>0.83</td>\n",
              "      <td>0.07</td>\n",
              "      <td>1.18</td>\n",
              "      <td>-0.09</td>\n",
              "      <td>0.21</td>\n",
              "      <td>0</td>\n",
              "    </tr>\n",
              "    <tr>\n",
              "      <th>8</th>\n",
              "      <td>C_9</td>\n",
              "      <td>2011</td>\n",
              "      <td>5.52</td>\n",
              "      <td>0.12</td>\n",
              "      <td>0.00</td>\n",
              "      <td>0.00</td>\n",
              "      <td>0.00</td>\n",
              "      <td>0.00</td>\n",
              "      <td>0.28</td>\n",
              "      <td>-0.14</td>\n",
              "      <td>0.35</td>\n",
              "      <td>-0.02</td>\n",
              "      <td>0.12</td>\n",
              "      <td>1</td>\n",
              "    </tr>\n",
              "    <tr>\n",
              "      <th>9</th>\n",
              "      <td>C_10</td>\n",
              "      <td>2011</td>\n",
              "      <td>0.50</td>\n",
              "      <td>0.32</td>\n",
              "      <td>4.64</td>\n",
              "      <td>4.20</td>\n",
              "      <td>0.28</td>\n",
              "      <td>-0.60</td>\n",
              "      <td>0.16</td>\n",
              "      <td>0.06</td>\n",
              "      <td>-0.03</td>\n",
              "      <td>-0.03</td>\n",
              "      <td>-0.17</td>\n",
              "      <td>0</td>\n",
              "    </tr>\n",
              "    <tr>\n",
              "      <th>10</th>\n",
              "      <td>C_11</td>\n",
              "      <td>2011</td>\n",
              "      <td>0.85</td>\n",
              "      <td>1.04</td>\n",
              "      <td>4.53</td>\n",
              "      <td>8.43</td>\n",
              "      <td>0.53</td>\n",
              "      <td>6.45</td>\n",
              "      <td>0.48</td>\n",
              "      <td>-0.09</td>\n",
              "      <td>0.62</td>\n",
              "      <td>-0.21</td>\n",
              "      <td>0.14</td>\n",
              "      <td>0</td>\n",
              "    </tr>\n",
              "    <tr>\n",
              "      <th>11</th>\n",
              "      <td>C_12</td>\n",
              "      <td>2011</td>\n",
              "      <td>0.14</td>\n",
              "      <td>0.06</td>\n",
              "      <td>2.93</td>\n",
              "      <td>1.79</td>\n",
              "      <td>0.08</td>\n",
              "      <td>-31.46</td>\n",
              "      <td>-0.37</td>\n",
              "      <td>-0.03</td>\n",
              "      <td>-0.03</td>\n",
              "      <td>0.29</td>\n",
              "      <td>0.56</td>\n",
              "      <td>0</td>\n",
              "    </tr>\n",
              "    <tr>\n",
              "      <th>...</th>\n",
              "      <td>...</td>\n",
              "      <td>...</td>\n",
              "      <td>...</td>\n",
              "      <td>...</td>\n",
              "      <td>...</td>\n",
              "      <td>...</td>\n",
              "      <td>...</td>\n",
              "      <td>...</td>\n",
              "      <td>...</td>\n",
              "      <td>...</td>\n",
              "      <td>...</td>\n",
              "      <td>...</td>\n",
              "      <td>...</td>\n",
              "      <td>...</td>\n",
              "    </tr>\n",
              "    <tr>\n",
              "      <th>400</th>\n",
              "      <td>C_21</td>\n",
              "      <td>2021</td>\n",
              "      <td>0.90</td>\n",
              "      <td>0.75</td>\n",
              "      <td>6.80</td>\n",
              "      <td>6.49</td>\n",
              "      <td>0.57</td>\n",
              "      <td>11.01</td>\n",
              "      <td>0.33</td>\n",
              "      <td>-0.10</td>\n",
              "      <td>0.42</td>\n",
              "      <td>-0.24</td>\n",
              "      <td>0.14</td>\n",
              "      <td>0</td>\n",
              "    </tr>\n",
              "    <tr>\n",
              "      <th>407</th>\n",
              "      <td>C_28</td>\n",
              "      <td>2021</td>\n",
              "      <td>0.56</td>\n",
              "      <td>0.91</td>\n",
              "      <td>12.69</td>\n",
              "      <td>11.91</td>\n",
              "      <td>0.49</td>\n",
              "      <td>10.73</td>\n",
              "      <td>0.49</td>\n",
              "      <td>-0.07</td>\n",
              "      <td>0.88</td>\n",
              "      <td>-0.11</td>\n",
              "      <td>0.60</td>\n",
              "      <td>0</td>\n",
              "    </tr>\n",
              "    <tr>\n",
              "      <th>410</th>\n",
              "      <td>C_31</td>\n",
              "      <td>2021</td>\n",
              "      <td>1.00</td>\n",
              "      <td>1.13</td>\n",
              "      <td>4.24</td>\n",
              "      <td>4.06</td>\n",
              "      <td>0.74</td>\n",
              "      <td>3.00</td>\n",
              "      <td>0.60</td>\n",
              "      <td>-0.09</td>\n",
              "      <td>0.29</td>\n",
              "      <td>-0.02</td>\n",
              "      <td>0.27</td>\n",
              "      <td>0</td>\n",
              "    </tr>\n",
              "    <tr>\n",
              "      <th>412</th>\n",
              "      <td>C_33</td>\n",
              "      <td>2021</td>\n",
              "      <td>1.50</td>\n",
              "      <td>0.44</td>\n",
              "      <td>3.73</td>\n",
              "      <td>4.43</td>\n",
              "      <td>1.26</td>\n",
              "      <td>5.72</td>\n",
              "      <td>0.77</td>\n",
              "      <td>-0.09</td>\n",
              "      <td>0.15</td>\n",
              "      <td>-0.18</td>\n",
              "      <td>0.21</td>\n",
              "      <td>1</td>\n",
              "    </tr>\n",
              "    <tr>\n",
              "      <th>414</th>\n",
              "      <td>C_35</td>\n",
              "      <td>2021</td>\n",
              "      <td>0.78</td>\n",
              "      <td>2.93</td>\n",
              "      <td>9.53</td>\n",
              "      <td>62.99</td>\n",
              "      <td>0.25</td>\n",
              "      <td>-0.71</td>\n",
              "      <td>0.14</td>\n",
              "      <td>-0.06</td>\n",
              "      <td>-0.70</td>\n",
              "      <td>-0.21</td>\n",
              "      <td>-1.80</td>\n",
              "      <td>0</td>\n",
              "    </tr>\n",
              "  </tbody>\n",
              "</table>\n",
              "<p>165 rows × 14 columns</p>\n",
              "</div>\n",
              "      <button class=\"colab-df-convert\" onclick=\"convertToInteractive('df-6d08bd62-0bd2-47ca-9245-c5b4e65c8b08')\"\n",
              "              title=\"Convert this dataframe to an interactive table.\"\n",
              "              style=\"display:none;\">\n",
              "        \n",
              "  <svg xmlns=\"http://www.w3.org/2000/svg\" height=\"24px\"viewBox=\"0 0 24 24\"\n",
              "       width=\"24px\">\n",
              "    <path d=\"M0 0h24v24H0V0z\" fill=\"none\"/>\n",
              "    <path d=\"M18.56 5.44l.94 2.06.94-2.06 2.06-.94-2.06-.94-.94-2.06-.94 2.06-2.06.94zm-11 1L8.5 8.5l.94-2.06 2.06-.94-2.06-.94L8.5 2.5l-.94 2.06-2.06.94zm10 10l.94 2.06.94-2.06 2.06-.94-2.06-.94-.94-2.06-.94 2.06-2.06.94z\"/><path d=\"M17.41 7.96l-1.37-1.37c-.4-.4-.92-.59-1.43-.59-.52 0-1.04.2-1.43.59L10.3 9.45l-7.72 7.72c-.78.78-.78 2.05 0 2.83L4 21.41c.39.39.9.59 1.41.59.51 0 1.02-.2 1.41-.59l7.78-7.78 2.81-2.81c.8-.78.8-2.07 0-2.86zM5.41 20L4 18.59l7.72-7.72 1.47 1.35L5.41 20z\"/>\n",
              "  </svg>\n",
              "      </button>\n",
              "      \n",
              "  <style>\n",
              "    .colab-df-container {\n",
              "      display:flex;\n",
              "      flex-wrap:wrap;\n",
              "      gap: 12px;\n",
              "    }\n",
              "\n",
              "    .colab-df-convert {\n",
              "      background-color: #E8F0FE;\n",
              "      border: none;\n",
              "      border-radius: 50%;\n",
              "      cursor: pointer;\n",
              "      display: none;\n",
              "      fill: #1967D2;\n",
              "      height: 32px;\n",
              "      padding: 0 0 0 0;\n",
              "      width: 32px;\n",
              "    }\n",
              "\n",
              "    .colab-df-convert:hover {\n",
              "      background-color: #E2EBFA;\n",
              "      box-shadow: 0px 1px 2px rgba(60, 64, 67, 0.3), 0px 1px 3px 1px rgba(60, 64, 67, 0.15);\n",
              "      fill: #174EA6;\n",
              "    }\n",
              "\n",
              "    [theme=dark] .colab-df-convert {\n",
              "      background-color: #3B4455;\n",
              "      fill: #D2E3FC;\n",
              "    }\n",
              "\n",
              "    [theme=dark] .colab-df-convert:hover {\n",
              "      background-color: #434B5C;\n",
              "      box-shadow: 0px 1px 3px 1px rgba(0, 0, 0, 0.15);\n",
              "      filter: drop-shadow(0px 1px 2px rgba(0, 0, 0, 0.3));\n",
              "      fill: #FFFFFF;\n",
              "    }\n",
              "  </style>\n",
              "\n",
              "      <script>\n",
              "        const buttonEl =\n",
              "          document.querySelector('#df-6d08bd62-0bd2-47ca-9245-c5b4e65c8b08 button.colab-df-convert');\n",
              "        buttonEl.style.display =\n",
              "          google.colab.kernel.accessAllowed ? 'block' : 'none';\n",
              "\n",
              "        async function convertToInteractive(key) {\n",
              "          const element = document.querySelector('#df-6d08bd62-0bd2-47ca-9245-c5b4e65c8b08');\n",
              "          const dataTable =\n",
              "            await google.colab.kernel.invokeFunction('convertToInteractive',\n",
              "                                                     [key], {});\n",
              "          if (!dataTable) return;\n",
              "\n",
              "          const docLinkHtml = 'Like what you see? Visit the ' +\n",
              "            '<a target=\"_blank\" href=https://colab.research.google.com/notebooks/data_table.ipynb>data table notebook</a>'\n",
              "            + ' to learn more about interactive tables.';\n",
              "          element.innerHTML = '';\n",
              "          dataTable['output_type'] = 'display_data';\n",
              "          await google.colab.output.renderOutput(dataTable, element);\n",
              "          const docLink = document.createElement('div');\n",
              "          docLink.innerHTML = docLinkHtml;\n",
              "          element.appendChild(docLink);\n",
              "        }\n",
              "      </script>\n",
              "    </div>\n",
              "  </div>\n",
              "  "
            ]
          },
          "metadata": {},
          "execution_count": 15
        }
      ]
    },
    {
      "cell_type": "code",
      "source": [
        "test_df"
      ],
      "metadata": {
        "colab": {
          "base_uri": "https://localhost:8080/",
          "height": 468
        },
        "id": "hpUmzAPkftRt",
        "outputId": "41c8bd0f-c260-4840-b282-30f7d652834f"
      },
      "execution_count": null,
      "outputs": [
        {
          "output_type": "execute_result",
          "data": {
            "text/plain": [
              "    IDRSSD  Year    X1    X2     X3     X4    X5     X6    X7    X8    X9  \\\n",
              "0      C_1  2011  0.53  0.81   4.15  11.71  0.38   2.49  0.83  0.07  1.18   \n",
              "10    C_11  2011  0.85  1.04   4.53   8.43  0.53   6.45  0.48 -0.09  0.62   \n",
              "13    C_14  2011  1.50  0.05   0.70   0.45  0.93  -0.91  0.01 -0.32 -0.66   \n",
              "14    C_15  2011  0.57  0.08   0.05   0.83  0.06  -0.05  0.46 -0.02  0.01   \n",
              "17    C_18  2011  0.32  0.43  26.66   6.45  0.29  -0.81  0.18  0.10  0.06   \n",
              "..     ...   ...   ...   ...    ...    ...   ...    ...   ...   ...   ...   \n",
              "400   C_21  2021  0.90  0.75   6.80   6.49  0.57  11.01  0.33 -0.10  0.42   \n",
              "403   C_24  2021  0.32  0.92   7.66   4.83  0.23  37.48  0.36 -0.16  0.43   \n",
              "407   C_28  2021  0.56  0.91  12.69  11.91  0.49  10.73  0.49 -0.07  0.88   \n",
              "410   C_31  2021  1.00  1.13   4.24   4.06  0.74   3.00  0.60 -0.09  0.29   \n",
              "414   C_35  2021  0.78  2.93   9.53  62.99  0.25  -0.71  0.14 -0.06 -0.70   \n",
              "\n",
              "      X10   X11  Status  \n",
              "0   -0.09  0.21       0  \n",
              "10  -0.21  0.14       0  \n",
              "13   0.30 -1.37       1  \n",
              "14  -0.23 -0.57       0  \n",
              "17  -0.25 -0.86       0  \n",
              "..    ...   ...     ...  \n",
              "400 -0.24  0.14       0  \n",
              "403 -0.13  0.35       0  \n",
              "407 -0.11  0.60       0  \n",
              "410 -0.02  0.27       0  \n",
              "414 -0.21 -1.80       0  \n",
              "\n",
              "[110 rows x 14 columns]"
            ],
            "text/html": [
              "\n",
              "  <div id=\"df-5edb66d0-67b9-4d39-8dc5-bc01a3e80339\">\n",
              "    <div class=\"colab-df-container\">\n",
              "      <div>\n",
              "<style scoped>\n",
              "    .dataframe tbody tr th:only-of-type {\n",
              "        vertical-align: middle;\n",
              "    }\n",
              "\n",
              "    .dataframe tbody tr th {\n",
              "        vertical-align: top;\n",
              "    }\n",
              "\n",
              "    .dataframe thead th {\n",
              "        text-align: right;\n",
              "    }\n",
              "</style>\n",
              "<table border=\"1\" class=\"dataframe\">\n",
              "  <thead>\n",
              "    <tr style=\"text-align: right;\">\n",
              "      <th></th>\n",
              "      <th>IDRSSD</th>\n",
              "      <th>Year</th>\n",
              "      <th>X1</th>\n",
              "      <th>X2</th>\n",
              "      <th>X3</th>\n",
              "      <th>X4</th>\n",
              "      <th>X5</th>\n",
              "      <th>X6</th>\n",
              "      <th>X7</th>\n",
              "      <th>X8</th>\n",
              "      <th>X9</th>\n",
              "      <th>X10</th>\n",
              "      <th>X11</th>\n",
              "      <th>Status</th>\n",
              "    </tr>\n",
              "  </thead>\n",
              "  <tbody>\n",
              "    <tr>\n",
              "      <th>0</th>\n",
              "      <td>C_1</td>\n",
              "      <td>2011</td>\n",
              "      <td>0.53</td>\n",
              "      <td>0.81</td>\n",
              "      <td>4.15</td>\n",
              "      <td>11.71</td>\n",
              "      <td>0.38</td>\n",
              "      <td>2.49</td>\n",
              "      <td>0.83</td>\n",
              "      <td>0.07</td>\n",
              "      <td>1.18</td>\n",
              "      <td>-0.09</td>\n",
              "      <td>0.21</td>\n",
              "      <td>0</td>\n",
              "    </tr>\n",
              "    <tr>\n",
              "      <th>10</th>\n",
              "      <td>C_11</td>\n",
              "      <td>2011</td>\n",
              "      <td>0.85</td>\n",
              "      <td>1.04</td>\n",
              "      <td>4.53</td>\n",
              "      <td>8.43</td>\n",
              "      <td>0.53</td>\n",
              "      <td>6.45</td>\n",
              "      <td>0.48</td>\n",
              "      <td>-0.09</td>\n",
              "      <td>0.62</td>\n",
              "      <td>-0.21</td>\n",
              "      <td>0.14</td>\n",
              "      <td>0</td>\n",
              "    </tr>\n",
              "    <tr>\n",
              "      <th>13</th>\n",
              "      <td>C_14</td>\n",
              "      <td>2011</td>\n",
              "      <td>1.50</td>\n",
              "      <td>0.05</td>\n",
              "      <td>0.70</td>\n",
              "      <td>0.45</td>\n",
              "      <td>0.93</td>\n",
              "      <td>-0.91</td>\n",
              "      <td>0.01</td>\n",
              "      <td>-0.32</td>\n",
              "      <td>-0.66</td>\n",
              "      <td>0.30</td>\n",
              "      <td>-1.37</td>\n",
              "      <td>1</td>\n",
              "    </tr>\n",
              "    <tr>\n",
              "      <th>14</th>\n",
              "      <td>C_15</td>\n",
              "      <td>2011</td>\n",
              "      <td>0.57</td>\n",
              "      <td>0.08</td>\n",
              "      <td>0.05</td>\n",
              "      <td>0.83</td>\n",
              "      <td>0.06</td>\n",
              "      <td>-0.05</td>\n",
              "      <td>0.46</td>\n",
              "      <td>-0.02</td>\n",
              "      <td>0.01</td>\n",
              "      <td>-0.23</td>\n",
              "      <td>-0.57</td>\n",
              "      <td>0</td>\n",
              "    </tr>\n",
              "    <tr>\n",
              "      <th>17</th>\n",
              "      <td>C_18</td>\n",
              "      <td>2011</td>\n",
              "      <td>0.32</td>\n",
              "      <td>0.43</td>\n",
              "      <td>26.66</td>\n",
              "      <td>6.45</td>\n",
              "      <td>0.29</td>\n",
              "      <td>-0.81</td>\n",
              "      <td>0.18</td>\n",
              "      <td>0.10</td>\n",
              "      <td>0.06</td>\n",
              "      <td>-0.25</td>\n",
              "      <td>-0.86</td>\n",
              "      <td>0</td>\n",
              "    </tr>\n",
              "    <tr>\n",
              "      <th>...</th>\n",
              "      <td>...</td>\n",
              "      <td>...</td>\n",
              "      <td>...</td>\n",
              "      <td>...</td>\n",
              "      <td>...</td>\n",
              "      <td>...</td>\n",
              "      <td>...</td>\n",
              "      <td>...</td>\n",
              "      <td>...</td>\n",
              "      <td>...</td>\n",
              "      <td>...</td>\n",
              "      <td>...</td>\n",
              "      <td>...</td>\n",
              "      <td>...</td>\n",
              "    </tr>\n",
              "    <tr>\n",
              "      <th>400</th>\n",
              "      <td>C_21</td>\n",
              "      <td>2021</td>\n",
              "      <td>0.90</td>\n",
              "      <td>0.75</td>\n",
              "      <td>6.80</td>\n",
              "      <td>6.49</td>\n",
              "      <td>0.57</td>\n",
              "      <td>11.01</td>\n",
              "      <td>0.33</td>\n",
              "      <td>-0.10</td>\n",
              "      <td>0.42</td>\n",
              "      <td>-0.24</td>\n",
              "      <td>0.14</td>\n",
              "      <td>0</td>\n",
              "    </tr>\n",
              "    <tr>\n",
              "      <th>403</th>\n",
              "      <td>C_24</td>\n",
              "      <td>2021</td>\n",
              "      <td>0.32</td>\n",
              "      <td>0.92</td>\n",
              "      <td>7.66</td>\n",
              "      <td>4.83</td>\n",
              "      <td>0.23</td>\n",
              "      <td>37.48</td>\n",
              "      <td>0.36</td>\n",
              "      <td>-0.16</td>\n",
              "      <td>0.43</td>\n",
              "      <td>-0.13</td>\n",
              "      <td>0.35</td>\n",
              "      <td>0</td>\n",
              "    </tr>\n",
              "    <tr>\n",
              "      <th>407</th>\n",
              "      <td>C_28</td>\n",
              "      <td>2021</td>\n",
              "      <td>0.56</td>\n",
              "      <td>0.91</td>\n",
              "      <td>12.69</td>\n",
              "      <td>11.91</td>\n",
              "      <td>0.49</td>\n",
              "      <td>10.73</td>\n",
              "      <td>0.49</td>\n",
              "      <td>-0.07</td>\n",
              "      <td>0.88</td>\n",
              "      <td>-0.11</td>\n",
              "      <td>0.60</td>\n",
              "      <td>0</td>\n",
              "    </tr>\n",
              "    <tr>\n",
              "      <th>410</th>\n",
              "      <td>C_31</td>\n",
              "      <td>2021</td>\n",
              "      <td>1.00</td>\n",
              "      <td>1.13</td>\n",
              "      <td>4.24</td>\n",
              "      <td>4.06</td>\n",
              "      <td>0.74</td>\n",
              "      <td>3.00</td>\n",
              "      <td>0.60</td>\n",
              "      <td>-0.09</td>\n",
              "      <td>0.29</td>\n",
              "      <td>-0.02</td>\n",
              "      <td>0.27</td>\n",
              "      <td>0</td>\n",
              "    </tr>\n",
              "    <tr>\n",
              "      <th>414</th>\n",
              "      <td>C_35</td>\n",
              "      <td>2021</td>\n",
              "      <td>0.78</td>\n",
              "      <td>2.93</td>\n",
              "      <td>9.53</td>\n",
              "      <td>62.99</td>\n",
              "      <td>0.25</td>\n",
              "      <td>-0.71</td>\n",
              "      <td>0.14</td>\n",
              "      <td>-0.06</td>\n",
              "      <td>-0.70</td>\n",
              "      <td>-0.21</td>\n",
              "      <td>-1.80</td>\n",
              "      <td>0</td>\n",
              "    </tr>\n",
              "  </tbody>\n",
              "</table>\n",
              "<p>110 rows × 14 columns</p>\n",
              "</div>\n",
              "      <button class=\"colab-df-convert\" onclick=\"convertToInteractive('df-5edb66d0-67b9-4d39-8dc5-bc01a3e80339')\"\n",
              "              title=\"Convert this dataframe to an interactive table.\"\n",
              "              style=\"display:none;\">\n",
              "        \n",
              "  <svg xmlns=\"http://www.w3.org/2000/svg\" height=\"24px\"viewBox=\"0 0 24 24\"\n",
              "       width=\"24px\">\n",
              "    <path d=\"M0 0h24v24H0V0z\" fill=\"none\"/>\n",
              "    <path d=\"M18.56 5.44l.94 2.06.94-2.06 2.06-.94-2.06-.94-.94-2.06-.94 2.06-2.06.94zm-11 1L8.5 8.5l.94-2.06 2.06-.94-2.06-.94L8.5 2.5l-.94 2.06-2.06.94zm10 10l.94 2.06.94-2.06 2.06-.94-2.06-.94-.94-2.06-.94 2.06-2.06.94z\"/><path d=\"M17.41 7.96l-1.37-1.37c-.4-.4-.92-.59-1.43-.59-.52 0-1.04.2-1.43.59L10.3 9.45l-7.72 7.72c-.78.78-.78 2.05 0 2.83L4 21.41c.39.39.9.59 1.41.59.51 0 1.02-.2 1.41-.59l7.78-7.78 2.81-2.81c.8-.78.8-2.07 0-2.86zM5.41 20L4 18.59l7.72-7.72 1.47 1.35L5.41 20z\"/>\n",
              "  </svg>\n",
              "      </button>\n",
              "      \n",
              "  <style>\n",
              "    .colab-df-container {\n",
              "      display:flex;\n",
              "      flex-wrap:wrap;\n",
              "      gap: 12px;\n",
              "    }\n",
              "\n",
              "    .colab-df-convert {\n",
              "      background-color: #E8F0FE;\n",
              "      border: none;\n",
              "      border-radius: 50%;\n",
              "      cursor: pointer;\n",
              "      display: none;\n",
              "      fill: #1967D2;\n",
              "      height: 32px;\n",
              "      padding: 0 0 0 0;\n",
              "      width: 32px;\n",
              "    }\n",
              "\n",
              "    .colab-df-convert:hover {\n",
              "      background-color: #E2EBFA;\n",
              "      box-shadow: 0px 1px 2px rgba(60, 64, 67, 0.3), 0px 1px 3px 1px rgba(60, 64, 67, 0.15);\n",
              "      fill: #174EA6;\n",
              "    }\n",
              "\n",
              "    [theme=dark] .colab-df-convert {\n",
              "      background-color: #3B4455;\n",
              "      fill: #D2E3FC;\n",
              "    }\n",
              "\n",
              "    [theme=dark] .colab-df-convert:hover {\n",
              "      background-color: #434B5C;\n",
              "      box-shadow: 0px 1px 3px 1px rgba(0, 0, 0, 0.15);\n",
              "      filter: drop-shadow(0px 1px 2px rgba(0, 0, 0, 0.3));\n",
              "      fill: #FFFFFF;\n",
              "    }\n",
              "  </style>\n",
              "\n",
              "      <script>\n",
              "        const buttonEl =\n",
              "          document.querySelector('#df-5edb66d0-67b9-4d39-8dc5-bc01a3e80339 button.colab-df-convert');\n",
              "        buttonEl.style.display =\n",
              "          google.colab.kernel.accessAllowed ? 'block' : 'none';\n",
              "\n",
              "        async function convertToInteractive(key) {\n",
              "          const element = document.querySelector('#df-5edb66d0-67b9-4d39-8dc5-bc01a3e80339');\n",
              "          const dataTable =\n",
              "            await google.colab.kernel.invokeFunction('convertToInteractive',\n",
              "                                                     [key], {});\n",
              "          if (!dataTable) return;\n",
              "\n",
              "          const docLinkHtml = 'Like what you see? Visit the ' +\n",
              "            '<a target=\"_blank\" href=https://colab.research.google.com/notebooks/data_table.ipynb>data table notebook</a>'\n",
              "            + ' to learn more about interactive tables.';\n",
              "          element.innerHTML = '';\n",
              "          dataTable['output_type'] = 'display_data';\n",
              "          await google.colab.output.renderOutput(dataTable, element);\n",
              "          const docLink = document.createElement('div');\n",
              "          docLink.innerHTML = docLinkHtml;\n",
              "          element.appendChild(docLink);\n",
              "        }\n",
              "      </script>\n",
              "    </div>\n",
              "  </div>\n",
              "  "
            ]
          },
          "metadata": {},
          "execution_count": 16
        }
      ]
    },
    {
      "cell_type": "code",
      "source": [
        "print(train_df.shape, validation_df.shape, test_df.shape) #(no. of rows, no.of columns)"
      ],
      "metadata": {
        "colab": {
          "base_uri": "https://localhost:8080/"
        },
        "id": "ENH6A-Gjkpo8",
        "outputId": "c14be8a2-7382-452e-c284-11375ff7529e"
      },
      "execution_count": null,
      "outputs": [
        {
          "output_type": "stream",
          "name": "stdout",
          "text": [
            "(220, 14) (165, 14) (110, 14)\n"
          ]
        }
      ]
    },
    {
      "cell_type": "code",
      "source": [
        "train_df.columns"
      ],
      "metadata": {
        "colab": {
          "base_uri": "https://localhost:8080/"
        },
        "id": "d_k1ma_VqNrz",
        "outputId": "a4d6d69e-0b27-40d2-d1b9-f5617571efe8"
      },
      "execution_count": null,
      "outputs": [
        {
          "output_type": "execute_result",
          "data": {
            "text/plain": [
              "Index(['IDRSSD', 'Year', 'X1', 'X2', 'X3', 'X4', 'X5', 'X6', 'X7', 'X8', 'X9',\n",
              "       'X10', 'X11', 'Status'],\n",
              "      dtype='object')"
            ]
          },
          "metadata": {},
          "execution_count": 18
        }
      ]
    },
    {
      "cell_type": "code",
      "source": [
        "def create_data_by_group(group:  pd.DataFrame, freq=1):\n",
        "    if group.shape[0] < freq:\n",
        "        return\n",
        "    group = group.copy()\n",
        "    label_collection = group['Status'].values\n",
        "    group.drop(['IDRSSD', 'Year', 'Status'], axis=1, inplace=True)\n",
        "    generated_columns = []\n",
        "    for i in range(freq):\n",
        "        generated_columns.extend([item + '_' + str(i + 1) for item in group.columns])\n",
        "    generated_data = []\n",
        "    for i in range(len(group) - freq + 1):\n",
        "        tmp = group[i: (i + freq)].values\n",
        "        tmp = tmp.reshape((1,-1))\n",
        "        assert tmp.shape[1] == len(generated_columns)\n",
        "        tmp = pd.DataFrame(tmp, columns=generated_columns)\n",
        "        if 1. in label_collection[i: (i + freq)]:\n",
        "            tmp['Status'] = 1\n",
        "        else:\n",
        "            tmp['Status'] = 0\n",
        "        generated_data.append(tmp)\n",
        "    return pd.concat(generated_data)"
      ],
      "metadata": {
        "id": "cIlp9hflqSkw"
      },
      "execution_count": null,
      "outputs": []
    },
    {
      "cell_type": "code",
      "source": [
        "def create_data(df, freq):\n",
        "    df = df.copy()\n",
        "    grouped_df = df.groupby(['IDRSSD'])\n",
        "    generated_data = []\n",
        "    for _, group in grouped_df:\n",
        "        tmp = create_data_by_group(group)\n",
        "        if tmp is not None:\n",
        "            generated_data.append(tmp)\n",
        "    return pd.concat(generated_data)"
      ],
      "metadata": {
        "id": "Vxw3NOLnq-G3"
      },
      "execution_count": null,
      "outputs": []
    },
    {
      "cell_type": "code",
      "source": [
        "train_data = create_data(train_df, 1)\n",
        "validation_data = create_data(validation_df, 1)\n",
        "test_data = create_data(test_df, 1)"
      ],
      "metadata": {
        "id": "rjr0PL-TrDZe"
      },
      "execution_count": null,
      "outputs": []
    },
    {
      "cell_type": "code",
      "source": [
        "train_data"
      ],
      "metadata": {
        "colab": {
          "base_uri": "https://localhost:8080/",
          "height": 424
        },
        "id": "AWj0flXxEvyg",
        "outputId": "e06f71ad-59bb-4d4c-f450-cf3cff87c71b"
      },
      "execution_count": null,
      "outputs": [
        {
          "output_type": "execute_result",
          "data": {
            "text/plain": [
              "    X1_1  X2_1  X3_1   X4_1  X5_1   X6_1  X7_1  X8_1  X9_1  X10_1  X11_1  \\\n",
              "0   0.53  0.81  4.15  11.71  0.38   2.49  0.83  0.07  1.18  -0.09   0.21   \n",
              "0   0.73  0.68  4.13   6.87  0.63   2.24  0.79  0.13  0.49  -0.02   0.14   \n",
              "0   0.71  0.68  5.88   5.18  0.62   1.41  0.67 -0.15  0.40   0.21   0.12   \n",
              "0   1.09  1.07  9.87   6.72  0.93   0.00  0.47 -0.33  0.49  -0.24   0.26   \n",
              "0   1.50  1.21  9.24   7.38  1.23   0.00  0.49 -0.34  0.50  -0.44   0.33   \n",
              "..   ...   ...   ...    ...   ...    ...   ...   ...   ...    ...    ...   \n",
              "0   1.11  1.61  2.73   4.47  0.56   2.39  0.41 -0.15  0.11  -0.10   0.26   \n",
              "0   1.15  1.78  3.36   4.71  0.63   2.72  0.39 -0.24 -0.11  -0.15   0.42   \n",
              "0   1.38  1.98  4.19   5.60  0.81  12.08  0.35 -0.23 -0.05  -0.14   0.55   \n",
              "0   1.54  1.98  2.92   5.07  0.87   0.00  0.33 -0.02  0.27  -0.13   0.48   \n",
              "0   1.46  1.84  2.92   5.07  0.00   0.00  0.04 -0.11  0.24  -0.20   0.47   \n",
              "\n",
              "    Status  \n",
              "0        0  \n",
              "0        0  \n",
              "0        0  \n",
              "0        1  \n",
              "0        1  \n",
              "..     ...  \n",
              "0        1  \n",
              "0        1  \n",
              "0        1  \n",
              "0        1  \n",
              "0        1  \n",
              "\n",
              "[220 rows x 12 columns]"
            ],
            "text/html": [
              "\n",
              "  <div id=\"df-4db6dcb0-06f4-479b-9c0d-a6a1bdaa216b\">\n",
              "    <div class=\"colab-df-container\">\n",
              "      <div>\n",
              "<style scoped>\n",
              "    .dataframe tbody tr th:only-of-type {\n",
              "        vertical-align: middle;\n",
              "    }\n",
              "\n",
              "    .dataframe tbody tr th {\n",
              "        vertical-align: top;\n",
              "    }\n",
              "\n",
              "    .dataframe thead th {\n",
              "        text-align: right;\n",
              "    }\n",
              "</style>\n",
              "<table border=\"1\" class=\"dataframe\">\n",
              "  <thead>\n",
              "    <tr style=\"text-align: right;\">\n",
              "      <th></th>\n",
              "      <th>X1_1</th>\n",
              "      <th>X2_1</th>\n",
              "      <th>X3_1</th>\n",
              "      <th>X4_1</th>\n",
              "      <th>X5_1</th>\n",
              "      <th>X6_1</th>\n",
              "      <th>X7_1</th>\n",
              "      <th>X8_1</th>\n",
              "      <th>X9_1</th>\n",
              "      <th>X10_1</th>\n",
              "      <th>X11_1</th>\n",
              "      <th>Status</th>\n",
              "    </tr>\n",
              "  </thead>\n",
              "  <tbody>\n",
              "    <tr>\n",
              "      <th>0</th>\n",
              "      <td>0.53</td>\n",
              "      <td>0.81</td>\n",
              "      <td>4.15</td>\n",
              "      <td>11.71</td>\n",
              "      <td>0.38</td>\n",
              "      <td>2.49</td>\n",
              "      <td>0.83</td>\n",
              "      <td>0.07</td>\n",
              "      <td>1.18</td>\n",
              "      <td>-0.09</td>\n",
              "      <td>0.21</td>\n",
              "      <td>0</td>\n",
              "    </tr>\n",
              "    <tr>\n",
              "      <th>0</th>\n",
              "      <td>0.73</td>\n",
              "      <td>0.68</td>\n",
              "      <td>4.13</td>\n",
              "      <td>6.87</td>\n",
              "      <td>0.63</td>\n",
              "      <td>2.24</td>\n",
              "      <td>0.79</td>\n",
              "      <td>0.13</td>\n",
              "      <td>0.49</td>\n",
              "      <td>-0.02</td>\n",
              "      <td>0.14</td>\n",
              "      <td>0</td>\n",
              "    </tr>\n",
              "    <tr>\n",
              "      <th>0</th>\n",
              "      <td>0.71</td>\n",
              "      <td>0.68</td>\n",
              "      <td>5.88</td>\n",
              "      <td>5.18</td>\n",
              "      <td>0.62</td>\n",
              "      <td>1.41</td>\n",
              "      <td>0.67</td>\n",
              "      <td>-0.15</td>\n",
              "      <td>0.40</td>\n",
              "      <td>0.21</td>\n",
              "      <td>0.12</td>\n",
              "      <td>0</td>\n",
              "    </tr>\n",
              "    <tr>\n",
              "      <th>0</th>\n",
              "      <td>1.09</td>\n",
              "      <td>1.07</td>\n",
              "      <td>9.87</td>\n",
              "      <td>6.72</td>\n",
              "      <td>0.93</td>\n",
              "      <td>0.00</td>\n",
              "      <td>0.47</td>\n",
              "      <td>-0.33</td>\n",
              "      <td>0.49</td>\n",
              "      <td>-0.24</td>\n",
              "      <td>0.26</td>\n",
              "      <td>1</td>\n",
              "    </tr>\n",
              "    <tr>\n",
              "      <th>0</th>\n",
              "      <td>1.50</td>\n",
              "      <td>1.21</td>\n",
              "      <td>9.24</td>\n",
              "      <td>7.38</td>\n",
              "      <td>1.23</td>\n",
              "      <td>0.00</td>\n",
              "      <td>0.49</td>\n",
              "      <td>-0.34</td>\n",
              "      <td>0.50</td>\n",
              "      <td>-0.44</td>\n",
              "      <td>0.33</td>\n",
              "      <td>1</td>\n",
              "    </tr>\n",
              "    <tr>\n",
              "      <th>...</th>\n",
              "      <td>...</td>\n",
              "      <td>...</td>\n",
              "      <td>...</td>\n",
              "      <td>...</td>\n",
              "      <td>...</td>\n",
              "      <td>...</td>\n",
              "      <td>...</td>\n",
              "      <td>...</td>\n",
              "      <td>...</td>\n",
              "      <td>...</td>\n",
              "      <td>...</td>\n",
              "      <td>...</td>\n",
              "    </tr>\n",
              "    <tr>\n",
              "      <th>0</th>\n",
              "      <td>1.11</td>\n",
              "      <td>1.61</td>\n",
              "      <td>2.73</td>\n",
              "      <td>4.47</td>\n",
              "      <td>0.56</td>\n",
              "      <td>2.39</td>\n",
              "      <td>0.41</td>\n",
              "      <td>-0.15</td>\n",
              "      <td>0.11</td>\n",
              "      <td>-0.10</td>\n",
              "      <td>0.26</td>\n",
              "      <td>1</td>\n",
              "    </tr>\n",
              "    <tr>\n",
              "      <th>0</th>\n",
              "      <td>1.15</td>\n",
              "      <td>1.78</td>\n",
              "      <td>3.36</td>\n",
              "      <td>4.71</td>\n",
              "      <td>0.63</td>\n",
              "      <td>2.72</td>\n",
              "      <td>0.39</td>\n",
              "      <td>-0.24</td>\n",
              "      <td>-0.11</td>\n",
              "      <td>-0.15</td>\n",
              "      <td>0.42</td>\n",
              "      <td>1</td>\n",
              "    </tr>\n",
              "    <tr>\n",
              "      <th>0</th>\n",
              "      <td>1.38</td>\n",
              "      <td>1.98</td>\n",
              "      <td>4.19</td>\n",
              "      <td>5.60</td>\n",
              "      <td>0.81</td>\n",
              "      <td>12.08</td>\n",
              "      <td>0.35</td>\n",
              "      <td>-0.23</td>\n",
              "      <td>-0.05</td>\n",
              "      <td>-0.14</td>\n",
              "      <td>0.55</td>\n",
              "      <td>1</td>\n",
              "    </tr>\n",
              "    <tr>\n",
              "      <th>0</th>\n",
              "      <td>1.54</td>\n",
              "      <td>1.98</td>\n",
              "      <td>2.92</td>\n",
              "      <td>5.07</td>\n",
              "      <td>0.87</td>\n",
              "      <td>0.00</td>\n",
              "      <td>0.33</td>\n",
              "      <td>-0.02</td>\n",
              "      <td>0.27</td>\n",
              "      <td>-0.13</td>\n",
              "      <td>0.48</td>\n",
              "      <td>1</td>\n",
              "    </tr>\n",
              "    <tr>\n",
              "      <th>0</th>\n",
              "      <td>1.46</td>\n",
              "      <td>1.84</td>\n",
              "      <td>2.92</td>\n",
              "      <td>5.07</td>\n",
              "      <td>0.00</td>\n",
              "      <td>0.00</td>\n",
              "      <td>0.04</td>\n",
              "      <td>-0.11</td>\n",
              "      <td>0.24</td>\n",
              "      <td>-0.20</td>\n",
              "      <td>0.47</td>\n",
              "      <td>1</td>\n",
              "    </tr>\n",
              "  </tbody>\n",
              "</table>\n",
              "<p>220 rows × 12 columns</p>\n",
              "</div>\n",
              "      <button class=\"colab-df-convert\" onclick=\"convertToInteractive('df-4db6dcb0-06f4-479b-9c0d-a6a1bdaa216b')\"\n",
              "              title=\"Convert this dataframe to an interactive table.\"\n",
              "              style=\"display:none;\">\n",
              "        \n",
              "  <svg xmlns=\"http://www.w3.org/2000/svg\" height=\"24px\"viewBox=\"0 0 24 24\"\n",
              "       width=\"24px\">\n",
              "    <path d=\"M0 0h24v24H0V0z\" fill=\"none\"/>\n",
              "    <path d=\"M18.56 5.44l.94 2.06.94-2.06 2.06-.94-2.06-.94-.94-2.06-.94 2.06-2.06.94zm-11 1L8.5 8.5l.94-2.06 2.06-.94-2.06-.94L8.5 2.5l-.94 2.06-2.06.94zm10 10l.94 2.06.94-2.06 2.06-.94-2.06-.94-.94-2.06-.94 2.06-2.06.94z\"/><path d=\"M17.41 7.96l-1.37-1.37c-.4-.4-.92-.59-1.43-.59-.52 0-1.04.2-1.43.59L10.3 9.45l-7.72 7.72c-.78.78-.78 2.05 0 2.83L4 21.41c.39.39.9.59 1.41.59.51 0 1.02-.2 1.41-.59l7.78-7.78 2.81-2.81c.8-.78.8-2.07 0-2.86zM5.41 20L4 18.59l7.72-7.72 1.47 1.35L5.41 20z\"/>\n",
              "  </svg>\n",
              "      </button>\n",
              "      \n",
              "  <style>\n",
              "    .colab-df-container {\n",
              "      display:flex;\n",
              "      flex-wrap:wrap;\n",
              "      gap: 12px;\n",
              "    }\n",
              "\n",
              "    .colab-df-convert {\n",
              "      background-color: #E8F0FE;\n",
              "      border: none;\n",
              "      border-radius: 50%;\n",
              "      cursor: pointer;\n",
              "      display: none;\n",
              "      fill: #1967D2;\n",
              "      height: 32px;\n",
              "      padding: 0 0 0 0;\n",
              "      width: 32px;\n",
              "    }\n",
              "\n",
              "    .colab-df-convert:hover {\n",
              "      background-color: #E2EBFA;\n",
              "      box-shadow: 0px 1px 2px rgba(60, 64, 67, 0.3), 0px 1px 3px 1px rgba(60, 64, 67, 0.15);\n",
              "      fill: #174EA6;\n",
              "    }\n",
              "\n",
              "    [theme=dark] .colab-df-convert {\n",
              "      background-color: #3B4455;\n",
              "      fill: #D2E3FC;\n",
              "    }\n",
              "\n",
              "    [theme=dark] .colab-df-convert:hover {\n",
              "      background-color: #434B5C;\n",
              "      box-shadow: 0px 1px 3px 1px rgba(0, 0, 0, 0.15);\n",
              "      filter: drop-shadow(0px 1px 2px rgba(0, 0, 0, 0.3));\n",
              "      fill: #FFFFFF;\n",
              "    }\n",
              "  </style>\n",
              "\n",
              "      <script>\n",
              "        const buttonEl =\n",
              "          document.querySelector('#df-4db6dcb0-06f4-479b-9c0d-a6a1bdaa216b button.colab-df-convert');\n",
              "        buttonEl.style.display =\n",
              "          google.colab.kernel.accessAllowed ? 'block' : 'none';\n",
              "\n",
              "        async function convertToInteractive(key) {\n",
              "          const element = document.querySelector('#df-4db6dcb0-06f4-479b-9c0d-a6a1bdaa216b');\n",
              "          const dataTable =\n",
              "            await google.colab.kernel.invokeFunction('convertToInteractive',\n",
              "                                                     [key], {});\n",
              "          if (!dataTable) return;\n",
              "\n",
              "          const docLinkHtml = 'Like what you see? Visit the ' +\n",
              "            '<a target=\"_blank\" href=https://colab.research.google.com/notebooks/data_table.ipynb>data table notebook</a>'\n",
              "            + ' to learn more about interactive tables.';\n",
              "          element.innerHTML = '';\n",
              "          dataTable['output_type'] = 'display_data';\n",
              "          await google.colab.output.renderOutput(dataTable, element);\n",
              "          const docLink = document.createElement('div');\n",
              "          docLink.innerHTML = docLinkHtml;\n",
              "          element.appendChild(docLink);\n",
              "        }\n",
              "      </script>\n",
              "    </div>\n",
              "  </div>\n",
              "  "
            ]
          },
          "metadata": {},
          "execution_count": 22
        }
      ]
    },
    {
      "cell_type": "code",
      "source": [
        "test_data"
      ],
      "metadata": {
        "colab": {
          "base_uri": "https://localhost:8080/",
          "height": 424
        },
        "id": "0xNV9LiBFcmZ",
        "outputId": "4297b870-1a63-459d-acc6-6c8dd90e3766"
      },
      "execution_count": null,
      "outputs": [
        {
          "output_type": "execute_result",
          "data": {
            "text/plain": [
              "    X1_1  X2_1   X3_1    X4_1  X5_1   X6_1  X7_1  X8_1  X9_1  X10_1  X11_1  \\\n",
              "0   0.53  0.81   4.15   11.71  0.38   2.49  0.83  0.07  1.18  -0.09   0.21   \n",
              "0   0.73  0.68   4.13    6.87  0.63   2.24  0.79  0.13  0.49  -0.02   0.14   \n",
              "0   0.71  0.68   5.88    5.18  0.62   1.41  0.67 -0.15  0.40   0.21   0.12   \n",
              "0   1.09  1.07   9.87    6.72  0.93   0.00  0.47 -0.33  0.49  -0.24   0.26   \n",
              "0   1.50  1.21   9.24    7.38  1.23   0.00  0.49 -0.34  0.50  -0.44   0.33   \n",
              "..   ...   ...    ...     ...   ...    ...   ...   ...   ...    ...    ...   \n",
              "0   0.91  3.03  11.67  193.27  0.36  98.32  0.17 -0.21  0.16  -0.11  -0.21   \n",
              "0   0.92  3.41  12.12  211.81  0.37   3.92  0.17 -0.21  0.18  -0.14  -0.43   \n",
              "0   0.59  4.00   0.00    0.00  0.26   2.05  0.17 -0.35  0.22  -0.17  -1.19   \n",
              "0   0.62  4.23   0.00    0.00  0.00   1.63  0.17 -0.03  0.02  -0.34  -1.20   \n",
              "0   0.78  2.93   9.53   62.99  0.25  -0.71  0.14 -0.06 -0.70  -0.21  -1.80   \n",
              "\n",
              "    Status  \n",
              "0        0  \n",
              "0        0  \n",
              "0        0  \n",
              "0        1  \n",
              "0        1  \n",
              "..     ...  \n",
              "0        0  \n",
              "0        0  \n",
              "0        0  \n",
              "0        0  \n",
              "0        0  \n",
              "\n",
              "[110 rows x 12 columns]"
            ],
            "text/html": [
              "\n",
              "  <div id=\"df-8cf31f94-e729-47a8-8851-dedbfd61b334\">\n",
              "    <div class=\"colab-df-container\">\n",
              "      <div>\n",
              "<style scoped>\n",
              "    .dataframe tbody tr th:only-of-type {\n",
              "        vertical-align: middle;\n",
              "    }\n",
              "\n",
              "    .dataframe tbody tr th {\n",
              "        vertical-align: top;\n",
              "    }\n",
              "\n",
              "    .dataframe thead th {\n",
              "        text-align: right;\n",
              "    }\n",
              "</style>\n",
              "<table border=\"1\" class=\"dataframe\">\n",
              "  <thead>\n",
              "    <tr style=\"text-align: right;\">\n",
              "      <th></th>\n",
              "      <th>X1_1</th>\n",
              "      <th>X2_1</th>\n",
              "      <th>X3_1</th>\n",
              "      <th>X4_1</th>\n",
              "      <th>X5_1</th>\n",
              "      <th>X6_1</th>\n",
              "      <th>X7_1</th>\n",
              "      <th>X8_1</th>\n",
              "      <th>X9_1</th>\n",
              "      <th>X10_1</th>\n",
              "      <th>X11_1</th>\n",
              "      <th>Status</th>\n",
              "    </tr>\n",
              "  </thead>\n",
              "  <tbody>\n",
              "    <tr>\n",
              "      <th>0</th>\n",
              "      <td>0.53</td>\n",
              "      <td>0.81</td>\n",
              "      <td>4.15</td>\n",
              "      <td>11.71</td>\n",
              "      <td>0.38</td>\n",
              "      <td>2.49</td>\n",
              "      <td>0.83</td>\n",
              "      <td>0.07</td>\n",
              "      <td>1.18</td>\n",
              "      <td>-0.09</td>\n",
              "      <td>0.21</td>\n",
              "      <td>0</td>\n",
              "    </tr>\n",
              "    <tr>\n",
              "      <th>0</th>\n",
              "      <td>0.73</td>\n",
              "      <td>0.68</td>\n",
              "      <td>4.13</td>\n",
              "      <td>6.87</td>\n",
              "      <td>0.63</td>\n",
              "      <td>2.24</td>\n",
              "      <td>0.79</td>\n",
              "      <td>0.13</td>\n",
              "      <td>0.49</td>\n",
              "      <td>-0.02</td>\n",
              "      <td>0.14</td>\n",
              "      <td>0</td>\n",
              "    </tr>\n",
              "    <tr>\n",
              "      <th>0</th>\n",
              "      <td>0.71</td>\n",
              "      <td>0.68</td>\n",
              "      <td>5.88</td>\n",
              "      <td>5.18</td>\n",
              "      <td>0.62</td>\n",
              "      <td>1.41</td>\n",
              "      <td>0.67</td>\n",
              "      <td>-0.15</td>\n",
              "      <td>0.40</td>\n",
              "      <td>0.21</td>\n",
              "      <td>0.12</td>\n",
              "      <td>0</td>\n",
              "    </tr>\n",
              "    <tr>\n",
              "      <th>0</th>\n",
              "      <td>1.09</td>\n",
              "      <td>1.07</td>\n",
              "      <td>9.87</td>\n",
              "      <td>6.72</td>\n",
              "      <td>0.93</td>\n",
              "      <td>0.00</td>\n",
              "      <td>0.47</td>\n",
              "      <td>-0.33</td>\n",
              "      <td>0.49</td>\n",
              "      <td>-0.24</td>\n",
              "      <td>0.26</td>\n",
              "      <td>1</td>\n",
              "    </tr>\n",
              "    <tr>\n",
              "      <th>0</th>\n",
              "      <td>1.50</td>\n",
              "      <td>1.21</td>\n",
              "      <td>9.24</td>\n",
              "      <td>7.38</td>\n",
              "      <td>1.23</td>\n",
              "      <td>0.00</td>\n",
              "      <td>0.49</td>\n",
              "      <td>-0.34</td>\n",
              "      <td>0.50</td>\n",
              "      <td>-0.44</td>\n",
              "      <td>0.33</td>\n",
              "      <td>1</td>\n",
              "    </tr>\n",
              "    <tr>\n",
              "      <th>...</th>\n",
              "      <td>...</td>\n",
              "      <td>...</td>\n",
              "      <td>...</td>\n",
              "      <td>...</td>\n",
              "      <td>...</td>\n",
              "      <td>...</td>\n",
              "      <td>...</td>\n",
              "      <td>...</td>\n",
              "      <td>...</td>\n",
              "      <td>...</td>\n",
              "      <td>...</td>\n",
              "      <td>...</td>\n",
              "    </tr>\n",
              "    <tr>\n",
              "      <th>0</th>\n",
              "      <td>0.91</td>\n",
              "      <td>3.03</td>\n",
              "      <td>11.67</td>\n",
              "      <td>193.27</td>\n",
              "      <td>0.36</td>\n",
              "      <td>98.32</td>\n",
              "      <td>0.17</td>\n",
              "      <td>-0.21</td>\n",
              "      <td>0.16</td>\n",
              "      <td>-0.11</td>\n",
              "      <td>-0.21</td>\n",
              "      <td>0</td>\n",
              "    </tr>\n",
              "    <tr>\n",
              "      <th>0</th>\n",
              "      <td>0.92</td>\n",
              "      <td>3.41</td>\n",
              "      <td>12.12</td>\n",
              "      <td>211.81</td>\n",
              "      <td>0.37</td>\n",
              "      <td>3.92</td>\n",
              "      <td>0.17</td>\n",
              "      <td>-0.21</td>\n",
              "      <td>0.18</td>\n",
              "      <td>-0.14</td>\n",
              "      <td>-0.43</td>\n",
              "      <td>0</td>\n",
              "    </tr>\n",
              "    <tr>\n",
              "      <th>0</th>\n",
              "      <td>0.59</td>\n",
              "      <td>4.00</td>\n",
              "      <td>0.00</td>\n",
              "      <td>0.00</td>\n",
              "      <td>0.26</td>\n",
              "      <td>2.05</td>\n",
              "      <td>0.17</td>\n",
              "      <td>-0.35</td>\n",
              "      <td>0.22</td>\n",
              "      <td>-0.17</td>\n",
              "      <td>-1.19</td>\n",
              "      <td>0</td>\n",
              "    </tr>\n",
              "    <tr>\n",
              "      <th>0</th>\n",
              "      <td>0.62</td>\n",
              "      <td>4.23</td>\n",
              "      <td>0.00</td>\n",
              "      <td>0.00</td>\n",
              "      <td>0.00</td>\n",
              "      <td>1.63</td>\n",
              "      <td>0.17</td>\n",
              "      <td>-0.03</td>\n",
              "      <td>0.02</td>\n",
              "      <td>-0.34</td>\n",
              "      <td>-1.20</td>\n",
              "      <td>0</td>\n",
              "    </tr>\n",
              "    <tr>\n",
              "      <th>0</th>\n",
              "      <td>0.78</td>\n",
              "      <td>2.93</td>\n",
              "      <td>9.53</td>\n",
              "      <td>62.99</td>\n",
              "      <td>0.25</td>\n",
              "      <td>-0.71</td>\n",
              "      <td>0.14</td>\n",
              "      <td>-0.06</td>\n",
              "      <td>-0.70</td>\n",
              "      <td>-0.21</td>\n",
              "      <td>-1.80</td>\n",
              "      <td>0</td>\n",
              "    </tr>\n",
              "  </tbody>\n",
              "</table>\n",
              "<p>110 rows × 12 columns</p>\n",
              "</div>\n",
              "      <button class=\"colab-df-convert\" onclick=\"convertToInteractive('df-8cf31f94-e729-47a8-8851-dedbfd61b334')\"\n",
              "              title=\"Convert this dataframe to an interactive table.\"\n",
              "              style=\"display:none;\">\n",
              "        \n",
              "  <svg xmlns=\"http://www.w3.org/2000/svg\" height=\"24px\"viewBox=\"0 0 24 24\"\n",
              "       width=\"24px\">\n",
              "    <path d=\"M0 0h24v24H0V0z\" fill=\"none\"/>\n",
              "    <path d=\"M18.56 5.44l.94 2.06.94-2.06 2.06-.94-2.06-.94-.94-2.06-.94 2.06-2.06.94zm-11 1L8.5 8.5l.94-2.06 2.06-.94-2.06-.94L8.5 2.5l-.94 2.06-2.06.94zm10 10l.94 2.06.94-2.06 2.06-.94-2.06-.94-.94-2.06-.94 2.06-2.06.94z\"/><path d=\"M17.41 7.96l-1.37-1.37c-.4-.4-.92-.59-1.43-.59-.52 0-1.04.2-1.43.59L10.3 9.45l-7.72 7.72c-.78.78-.78 2.05 0 2.83L4 21.41c.39.39.9.59 1.41.59.51 0 1.02-.2 1.41-.59l7.78-7.78 2.81-2.81c.8-.78.8-2.07 0-2.86zM5.41 20L4 18.59l7.72-7.72 1.47 1.35L5.41 20z\"/>\n",
              "  </svg>\n",
              "      </button>\n",
              "      \n",
              "  <style>\n",
              "    .colab-df-container {\n",
              "      display:flex;\n",
              "      flex-wrap:wrap;\n",
              "      gap: 12px;\n",
              "    }\n",
              "\n",
              "    .colab-df-convert {\n",
              "      background-color: #E8F0FE;\n",
              "      border: none;\n",
              "      border-radius: 50%;\n",
              "      cursor: pointer;\n",
              "      display: none;\n",
              "      fill: #1967D2;\n",
              "      height: 32px;\n",
              "      padding: 0 0 0 0;\n",
              "      width: 32px;\n",
              "    }\n",
              "\n",
              "    .colab-df-convert:hover {\n",
              "      background-color: #E2EBFA;\n",
              "      box-shadow: 0px 1px 2px rgba(60, 64, 67, 0.3), 0px 1px 3px 1px rgba(60, 64, 67, 0.15);\n",
              "      fill: #174EA6;\n",
              "    }\n",
              "\n",
              "    [theme=dark] .colab-df-convert {\n",
              "      background-color: #3B4455;\n",
              "      fill: #D2E3FC;\n",
              "    }\n",
              "\n",
              "    [theme=dark] .colab-df-convert:hover {\n",
              "      background-color: #434B5C;\n",
              "      box-shadow: 0px 1px 3px 1px rgba(0, 0, 0, 0.15);\n",
              "      filter: drop-shadow(0px 1px 2px rgba(0, 0, 0, 0.3));\n",
              "      fill: #FFFFFF;\n",
              "    }\n",
              "  </style>\n",
              "\n",
              "      <script>\n",
              "        const buttonEl =\n",
              "          document.querySelector('#df-8cf31f94-e729-47a8-8851-dedbfd61b334 button.colab-df-convert');\n",
              "        buttonEl.style.display =\n",
              "          google.colab.kernel.accessAllowed ? 'block' : 'none';\n",
              "\n",
              "        async function convertToInteractive(key) {\n",
              "          const element = document.querySelector('#df-8cf31f94-e729-47a8-8851-dedbfd61b334');\n",
              "          const dataTable =\n",
              "            await google.colab.kernel.invokeFunction('convertToInteractive',\n",
              "                                                     [key], {});\n",
              "          if (!dataTable) return;\n",
              "\n",
              "          const docLinkHtml = 'Like what you see? Visit the ' +\n",
              "            '<a target=\"_blank\" href=https://colab.research.google.com/notebooks/data_table.ipynb>data table notebook</a>'\n",
              "            + ' to learn more about interactive tables.';\n",
              "          element.innerHTML = '';\n",
              "          dataTable['output_type'] = 'display_data';\n",
              "          await google.colab.output.renderOutput(dataTable, element);\n",
              "          const docLink = document.createElement('div');\n",
              "          docLink.innerHTML = docLinkHtml;\n",
              "          element.appendChild(docLink);\n",
              "        }\n",
              "      </script>\n",
              "    </div>\n",
              "  </div>\n",
              "  "
            ]
          },
          "metadata": {},
          "execution_count": 23
        }
      ]
    },
    {
      "cell_type": "code",
      "source": [
        "0.6*418"
      ],
      "metadata": {
        "colab": {
          "base_uri": "https://localhost:8080/"
        },
        "id": "ymtOkasQFnB-",
        "outputId": "15e11319-90b9-44f0-e0d1-70cd25b61e6a"
      },
      "execution_count": null,
      "outputs": [
        {
          "output_type": "execute_result",
          "data": {
            "text/plain": [
              "250.79999999999998"
            ]
          },
          "metadata": {},
          "execution_count": 24
        }
      ]
    },
    {
      "cell_type": "code",
      "source": [
        "train_data.Status.value_counts()"
      ],
      "metadata": {
        "colab": {
          "base_uri": "https://localhost:8080/"
        },
        "id": "lD8LTeWfrSNh",
        "outputId": "a86b2f64-cdbf-4d48-fe34-af7249298c75"
      },
      "execution_count": null,
      "outputs": [
        {
          "output_type": "execute_result",
          "data": {
            "text/plain": [
              "0    135\n",
              "1     85\n",
              "Name: Status, dtype: int64"
            ]
          },
          "metadata": {},
          "execution_count": 25
        }
      ]
    },
    {
      "cell_type": "code",
      "source": [
        "validation_data.Status.value_counts()"
      ],
      "metadata": {
        "colab": {
          "base_uri": "https://localhost:8080/"
        },
        "id": "UAJyiOuIrS5l",
        "outputId": "576fb93f-4621-4aa8-a3a6-d9ab4e77de22"
      },
      "execution_count": null,
      "outputs": [
        {
          "output_type": "execute_result",
          "data": {
            "text/plain": [
              "0    110\n",
              "1     55\n",
              "Name: Status, dtype: int64"
            ]
          },
          "metadata": {},
          "execution_count": 26
        }
      ]
    },
    {
      "cell_type": "code",
      "source": [
        "test_data.Status.value_counts()"
      ],
      "metadata": {
        "colab": {
          "base_uri": "https://localhost:8080/"
        },
        "id": "r21DwZQRrV40",
        "outputId": "e0cabd15-7ce9-427e-e86f-853e07d9ac3e"
      },
      "execution_count": null,
      "outputs": [
        {
          "output_type": "execute_result",
          "data": {
            "text/plain": [
              "0    90\n",
              "1    20\n",
              "Name: Status, dtype: int64"
            ]
          },
          "metadata": {},
          "execution_count": 27
        }
      ]
    },
    {
      "cell_type": "code",
      "source": [
        "pip install h5py"
      ],
      "metadata": {
        "colab": {
          "base_uri": "https://localhost:8080/"
        },
        "id": "4iOcug_rrYrV",
        "outputId": "c20b5912-0420-4026-8514-d30d757ec307"
      },
      "execution_count": null,
      "outputs": [
        {
          "output_type": "stream",
          "name": "stdout",
          "text": [
            "Looking in indexes: https://pypi.org/simple, https://us-python.pkg.dev/colab-wheels/public/simple/\n",
            "Requirement already satisfied: h5py in /usr/local/lib/python3.8/dist-packages (3.1.0)\n",
            "Requirement already satisfied: numpy>=1.17.5 in /usr/local/lib/python3.8/dist-packages (from h5py) (1.21.6)\n"
          ]
        }
      ]
    },
    {
      "cell_type": "code",
      "source": [
        "train_data.columns"
      ],
      "metadata": {
        "colab": {
          "base_uri": "https://localhost:8080/"
        },
        "id": "XT4uCjTdreW1",
        "outputId": "77026255-951a-4b06-9870-1e6f379c0b18"
      },
      "execution_count": null,
      "outputs": [
        {
          "output_type": "execute_result",
          "data": {
            "text/plain": [
              "Index(['X1_1', 'X2_1', 'X3_1', 'X4_1', 'X5_1', 'X6_1', 'X7_1', 'X8_1', 'X9_1',\n",
              "       'X10_1', 'X11_1', 'Status'],\n",
              "      dtype='object')"
            ]
          },
          "metadata": {},
          "execution_count": 29
        }
      ]
    },
    {
      "cell_type": "code",
      "source": [
        "train_data.to_csv('kenya_train')\n",
        "validation_data.to_csv('kenya_val')\n",
        "test_data.to_csv('kenya_test')"
      ],
      "metadata": {
        "id": "D9IF4FKDrhqR"
      },
      "execution_count": null,
      "outputs": []
    },
    {
      "cell_type": "markdown",
      "source": [
        "Splitting Panel data as guided by: https://datascience.stackexchange.com/questions/77684/time-series-grouped-cross-validation/79655#79655\n"
      ],
      "metadata": {
        "id": "c66qcsvZW2ty"
      }
    },
    {
      "cell_type": "code",
      "source": [
        "import pandas as pd\n",
        "import numpy as np\n",
        "from sklearn.model_selection import RepeatedKFold\n",
        "from sklearn.model_selection import TimeSeriesSplit\n",
        "# Generating dates\n",
        "def pp(start, end, n):\n",
        "    start_u = start.value//10**9\n",
        "    end_u = end.value//10**9\n",
        "\n",
        "    return pd.DatetimeIndex((10**9*np.random.randint(start_u, end_u, n, dtype=np.int64)).view('M8[ns]'))\n",
        "\n",
        "start = pd.to_datetime('2016-01-01')\n",
        "end = pd.to_datetime('2019-01-01')\n",
        "\n",
        "# First split by customer\n",
        "rkf = RepeatedKFold(n_splits=3, n_repeats=5, random_state=42)\n",
        "for train_firm, test_firm, val_firm in rkf.split(df['IDRSSD'].unique()):\n",
        "    print(\"training/testing with firms : \" + str(train_firm)+\"/\"+str(test_firm)+\"/\"+str(val_firm))\n",
        "\n",
        "    # Then sort all the data (if not already sorted)\n",
        "    sorted_df = df.sort_index()\n",
        "\n",
        "    # Then do the time series split\n",
        "    tscv = TimeSeriesSplit(max_train_size=None, n_splits=5)\n",
        "    for train_index, test_index in tscv.split(sorted_df.values):\n",
        "        df_train, df_test = sorted_df.iloc[train_index], sorted_df.iloc[test_index]\n",
        "\n",
        "        # Keep the right firms for training/testing \n",
        "        df_train_final = pd.concat( [ df_train.groupby('IDRSSD').get_group(i) for i in train_firm ])\n",
        "        df_test_final = pd.concat( [ df_test.groupby('IDRSSD').get_group(i) for i in test_firm ])"
      ],
      "metadata": {
        "colab": {
          "base_uri": "https://localhost:8080/",
          "height": 259
        },
        "id": "WIstglLCWXcF",
        "outputId": "92c99f96-95d5-4464-9e22-37b66f9f9d1a"
      },
      "execution_count": null,
      "outputs": [
        {
          "output_type": "error",
          "ename": "ValueError",
          "evalue": "ignored",
          "traceback": [
            "\u001b[0;31m---------------------------------------------------------------------------\u001b[0m",
            "\u001b[0;31mValueError\u001b[0m                                Traceback (most recent call last)",
            "\u001b[0;32m<ipython-input-31-812fa6d47d17>\u001b[0m in \u001b[0;36m<module>\u001b[0;34m\u001b[0m\n\u001b[1;32m     15\u001b[0m \u001b[0;31m# First split by customer\u001b[0m\u001b[0;34m\u001b[0m\u001b[0;34m\u001b[0m\u001b[0;34m\u001b[0m\u001b[0m\n\u001b[1;32m     16\u001b[0m \u001b[0mrkf\u001b[0m \u001b[0;34m=\u001b[0m \u001b[0mRepeatedKFold\u001b[0m\u001b[0;34m(\u001b[0m\u001b[0mn_splits\u001b[0m\u001b[0;34m=\u001b[0m\u001b[0;36m3\u001b[0m\u001b[0;34m,\u001b[0m \u001b[0mn_repeats\u001b[0m\u001b[0;34m=\u001b[0m\u001b[0;36m5\u001b[0m\u001b[0;34m,\u001b[0m \u001b[0mrandom_state\u001b[0m\u001b[0;34m=\u001b[0m\u001b[0;36m42\u001b[0m\u001b[0;34m)\u001b[0m\u001b[0;34m\u001b[0m\u001b[0;34m\u001b[0m\u001b[0m\n\u001b[0;32m---> 17\u001b[0;31m \u001b[0;32mfor\u001b[0m \u001b[0mtrain_firm\u001b[0m\u001b[0;34m,\u001b[0m \u001b[0mtest_firm\u001b[0m\u001b[0;34m,\u001b[0m \u001b[0mval_firm\u001b[0m \u001b[0;32min\u001b[0m \u001b[0mrkf\u001b[0m\u001b[0;34m.\u001b[0m\u001b[0msplit\u001b[0m\u001b[0;34m(\u001b[0m\u001b[0mdf\u001b[0m\u001b[0;34m[\u001b[0m\u001b[0;34m'IDRSSD'\u001b[0m\u001b[0;34m]\u001b[0m\u001b[0;34m.\u001b[0m\u001b[0munique\u001b[0m\u001b[0;34m(\u001b[0m\u001b[0;34m)\u001b[0m\u001b[0;34m)\u001b[0m\u001b[0;34m:\u001b[0m\u001b[0;34m\u001b[0m\u001b[0;34m\u001b[0m\u001b[0m\n\u001b[0m\u001b[1;32m     18\u001b[0m     \u001b[0mprint\u001b[0m\u001b[0;34m(\u001b[0m\u001b[0;34m\"training/testing with firms : \"\u001b[0m \u001b[0;34m+\u001b[0m \u001b[0mstr\u001b[0m\u001b[0;34m(\u001b[0m\u001b[0mtrain_firm\u001b[0m\u001b[0;34m)\u001b[0m\u001b[0;34m+\u001b[0m\u001b[0;34m\"/\"\u001b[0m\u001b[0;34m+\u001b[0m\u001b[0mstr\u001b[0m\u001b[0;34m(\u001b[0m\u001b[0mtest_firm\u001b[0m\u001b[0;34m)\u001b[0m\u001b[0;34m+\u001b[0m\u001b[0;34m\"/\"\u001b[0m\u001b[0;34m+\u001b[0m\u001b[0mstr\u001b[0m\u001b[0;34m(\u001b[0m\u001b[0mval_firm\u001b[0m\u001b[0;34m)\u001b[0m\u001b[0;34m)\u001b[0m\u001b[0;34m\u001b[0m\u001b[0;34m\u001b[0m\u001b[0m\n\u001b[1;32m     19\u001b[0m \u001b[0;34m\u001b[0m\u001b[0m\n",
            "\u001b[0;31mValueError\u001b[0m: not enough values to unpack (expected 3, got 2)"
          ]
        }
      ]
    },
    {
      "cell_type": "code",
      "source": [
        "df_train_final"
      ],
      "metadata": {
        "id": "Gdt6t-Mcc2mq"
      },
      "execution_count": null,
      "outputs": []
    },
    {
      "cell_type": "markdown",
      "source": [
        "END OF PRE-PROCESSING"
      ],
      "metadata": {
        "id": "QJ0ZQqkltxSd"
      }
    },
    {
      "cell_type": "code",
      "source": [
        "import pandas as pd\n",
        "import numpy as np\n",
        "from matplotlib import pyplot as plt\n",
        "from sklearn.linear_model import LogisticRegression\n",
        "from sklearn.ensemble import RandomForestClassifier\n",
        "from sklearn.ensemble import GradientBoostingClassifier\n",
        "from sklearn.ensemble import StackingClassifier\n",
        "from sklearn import metrics\n",
        "import imblearn\n",
        "from sklearn.model_selection import RandomizedSearchCV\n",
        "from sklearn.model_selection import GridSearchCV\n",
        "from sklearn.metrics import fbeta_score, make_scorer\n",
        "from imblearn.over_sampling import SMOTE\n",
        "from sklearn.preprocessing import MinMaxScaler"
      ],
      "metadata": {
        "id": "ju6b4r5pEHma"
      },
      "execution_count": null,
      "outputs": []
    },
    {
      "cell_type": "code",
      "source": [
        "train = pd.read_csv(\"kenya_train\")\n",
        "val = pd.read_csv(\"kenya_val\")\n",
        "test = pd.read_csv(\"kenya_test\")"
      ],
      "metadata": {
        "id": "4BGXLjDL-5CK"
      },
      "execution_count": null,
      "outputs": []
    },
    {
      "cell_type": "code",
      "source": [
        "train['Status'].value_counts()"
      ],
      "metadata": {
        "colab": {
          "base_uri": "https://localhost:8080/"
        },
        "id": "BfZCbFnzCDZH",
        "outputId": "f9a1ba84-f21b-4a30-9839-b414ffcf4b50"
      },
      "execution_count": null,
      "outputs": [
        {
          "output_type": "execute_result",
          "data": {
            "text/plain": [
              "0    135\n",
              "1     85\n",
              "Name: Status, dtype: int64"
            ]
          },
          "metadata": {},
          "execution_count": 34
        }
      ]
    },
    {
      "cell_type": "code",
      "source": [
        "val['Status'].value_counts()"
      ],
      "metadata": {
        "colab": {
          "base_uri": "https://localhost:8080/"
        },
        "id": "hGqzWz5xCDs1",
        "outputId": "98a3a2c6-f702-4d9f-8217-943e9adb6ce8"
      },
      "execution_count": null,
      "outputs": [
        {
          "output_type": "execute_result",
          "data": {
            "text/plain": [
              "0    110\n",
              "1     55\n",
              "Name: Status, dtype: int64"
            ]
          },
          "metadata": {},
          "execution_count": 35
        }
      ]
    },
    {
      "cell_type": "code",
      "source": [
        "test['Status'].value_counts()"
      ],
      "metadata": {
        "colab": {
          "base_uri": "https://localhost:8080/"
        },
        "id": "929_ftdbCD7u",
        "outputId": "463752e5-d214-4347-95a6-981efb3e90ba"
      },
      "execution_count": null,
      "outputs": [
        {
          "output_type": "execute_result",
          "data": {
            "text/plain": [
              "0    90\n",
              "1    20\n",
              "Name: Status, dtype: int64"
            ]
          },
          "metadata": {},
          "execution_count": 36
        }
      ]
    },
    {
      "cell_type": "code",
      "source": [
        "print(val.shape, test.shape)"
      ],
      "metadata": {
        "colab": {
          "base_uri": "https://localhost:8080/"
        },
        "id": "u8R3wQGaCUAc",
        "outputId": "b8257b81-eafd-428a-a36f-6bd770f77c9c"
      },
      "execution_count": null,
      "outputs": [
        {
          "output_type": "stream",
          "name": "stdout",
          "text": [
            "(165, 13) (110, 13)\n"
          ]
        }
      ]
    },
    {
      "cell_type": "code",
      "source": [
        "y_train = train['Status']\n",
        "X_train = train.drop('Status', axis=1)\n",
        "y_val = val['Status']\n",
        "X_val = val.drop('Status', axis=1)\n",
        "y_test = test['Status']\n",
        "X_test = test.drop('Status', axis=1)"
      ],
      "metadata": {
        "id": "ryew2Gt7CecC"
      },
      "execution_count": null,
      "outputs": []
    },
    {
      "cell_type": "code",
      "source": [
        "print(X_train.shape)\n",
        "print(X_val.shape)\n",
        "print(X_test.shape)"
      ],
      "metadata": {
        "colab": {
          "base_uri": "https://localhost:8080/"
        },
        "id": "VIdkJxcFDkCD",
        "outputId": "57bf1e51-211c-49c2-c5fa-f9be4aee0f4f"
      },
      "execution_count": null,
      "outputs": [
        {
          "output_type": "stream",
          "name": "stdout",
          "text": [
            "(220, 12)\n",
            "(165, 12)\n",
            "(110, 12)\n"
          ]
        }
      ]
    },
    {
      "cell_type": "code",
      "source": [
        "print(y_train.shape)"
      ],
      "metadata": {
        "colab": {
          "base_uri": "https://localhost:8080/"
        },
        "id": "MDFlhHNqDnnf",
        "outputId": "2b417c3d-50a5-44cf-86ef-65fd74237c7f"
      },
      "execution_count": null,
      "outputs": [
        {
          "output_type": "stream",
          "name": "stdout",
          "text": [
            "(220,)\n"
          ]
        }
      ]
    },
    {
      "cell_type": "code",
      "source": [
        "train_data = pd.concat([X_train, X_val])\n",
        "train_label = pd.concat([y_train, y_val])"
      ],
      "metadata": {
        "id": "UgTDZWUNDsWh"
      },
      "execution_count": null,
      "outputs": []
    },
    {
      "cell_type": "code",
      "source": [
        "print(train_label.shape)"
      ],
      "metadata": {
        "colab": {
          "base_uri": "https://localhost:8080/"
        },
        "id": "4NN2aGw-DxBJ",
        "outputId": "e9d96a73-a98f-4e33-d4d4-b27eea7d12ba"
      },
      "execution_count": null,
      "outputs": [
        {
          "output_type": "stream",
          "name": "stdout",
          "text": [
            "(385,)\n"
          ]
        }
      ]
    },
    {
      "cell_type": "markdown",
      "source": [
        "Logistic Regression"
      ],
      "metadata": {
        "id": "pin-DhwtD5Cc"
      }
    },
    {
      "cell_type": "code",
      "source": [
        "lr_search = GridSearchCV(LogisticRegression(max_iter=1000), param_grid={'C': [0.0001,0.001,0.01, 0.1, 1]}, \n",
        "                   scoring='roc_auc')\n",
        "\n",
        "lr_search.fit(X_train, y_train)"
      ],
      "metadata": {
        "colab": {
          "base_uri": "https://localhost:8080/"
        },
        "id": "DF23afI2D0p-",
        "outputId": "51f22bd7-671d-4186-fa31-4d2e5ef88ed6"
      },
      "execution_count": null,
      "outputs": [
        {
          "output_type": "execute_result",
          "data": {
            "text/plain": [
              "GridSearchCV(estimator=LogisticRegression(max_iter=1000),\n",
              "             param_grid={'C': [0.0001, 0.001, 0.01, 0.1, 1]},\n",
              "             scoring='roc_auc')"
            ]
          },
          "metadata": {},
          "execution_count": 43
        }
      ]
    },
    {
      "cell_type": "code",
      "source": [
        "print('best roc_auc score: ', lr_search.best_score_)\n",
        "print('best parameters: ', lr_search.best_params_)"
      ],
      "metadata": {
        "colab": {
          "base_uri": "https://localhost:8080/"
        },
        "id": "2SjQL0tOEYsI",
        "outputId": "a6dd0573-4696-460c-a1a9-dfd00fddf66b"
      },
      "execution_count": null,
      "outputs": [
        {
          "output_type": "stream",
          "name": "stdout",
          "text": [
            "best roc_auc score:  0.959041394335512\n",
            "best parameters:  {'C': 1}\n"
          ]
        }
      ]
    },
    {
      "cell_type": "code",
      "source": [
        "lr = LogisticRegression(C=0.1,max_iter=1000)\n",
        "lr.fit(train_data,train_label)"
      ],
      "metadata": {
        "colab": {
          "base_uri": "https://localhost:8080/"
        },
        "id": "bCluN2RKEaML",
        "outputId": "e96b4520-530e-4c1e-a7e1-21ced14b7176"
      },
      "execution_count": null,
      "outputs": [
        {
          "output_type": "execute_result",
          "data": {
            "text/plain": [
              "LogisticRegression(C=0.1, max_iter=1000)"
            ]
          },
          "metadata": {},
          "execution_count": 45
        }
      ]
    },
    {
      "cell_type": "code",
      "source": [
        "lr_pred = lr.predict(X_test)\n",
        "lr_pred_proba = pd.DataFrame(lr.predict_proba(X_test))[1]"
      ],
      "metadata": {
        "id": "PB6yCjB1Ehb5"
      },
      "execution_count": null,
      "outputs": []
    },
    {
      "cell_type": "code",
      "source": [
        "threshold_list = [0.1,0.2,0.3,0.4,0.5,0.6,0.7,0.8,0.9]\n",
        "def print_report(Y_true, model_pred_proba):\n",
        "    for i in threshold_list:\n",
        "        print ('\\n******** For i = {} ******'.format(i))\n",
        "        Y_test_pred = model_pred_proba.apply(lambda x: 1 if x>i else 0)\n",
        "        print('Precision: ',metrics.precision_score(Y_true,Y_test_pred))\n",
        "        print('Recall: ',metrics.recall_score(Y_true, Y_test_pred))\n",
        "        print('F2_score: ', metrics.fbeta_score(Y_true, Y_test_pred,beta=2))\n",
        "        print('ROC_AUC_Score: ',metrics.roc_auc_score(Y_true, model_pred_proba))"
      ],
      "metadata": {
        "id": "p56FMTEVsS1m"
      },
      "execution_count": null,
      "outputs": []
    },
    {
      "cell_type": "code",
      "source": [
        "print_report(y_test,lr_pred_proba)"
      ],
      "metadata": {
        "colab": {
          "base_uri": "https://localhost:8080/"
        },
        "id": "uAcX2zpNEpnN",
        "outputId": "4ff30ba5-3c8d-4fc8-aa1d-3f8d58d38418"
      },
      "execution_count": null,
      "outputs": [
        {
          "output_type": "stream",
          "name": "stdout",
          "text": [
            "\n",
            "******** For i = 0.1 ******\n",
            "Precision:  0.2857142857142857\n",
            "Recall:  1.0\n",
            "F2_score:  0.6666666666666666\n",
            "ROC_AUC_Score:  0.9872222222222222\n",
            "\n",
            "******** For i = 0.2 ******\n",
            "Precision:  0.37735849056603776\n",
            "Recall:  1.0\n",
            "F2_score:  0.7518796992481203\n",
            "ROC_AUC_Score:  0.9872222222222222\n",
            "\n",
            "******** For i = 0.3 ******\n",
            "Precision:  0.5714285714285714\n",
            "Recall:  1.0\n",
            "F2_score:  0.8695652173913042\n",
            "ROC_AUC_Score:  0.9872222222222222\n",
            "\n",
            "******** For i = 0.4 ******\n",
            "Precision:  0.8\n",
            "Recall:  1.0\n",
            "F2_score:  0.9523809523809523\n",
            "ROC_AUC_Score:  0.9872222222222222\n",
            "\n",
            "******** For i = 0.5 ******\n",
            "Precision:  0.9333333333333333\n",
            "Recall:  0.7\n",
            "F2_score:  0.7368421052631579\n",
            "ROC_AUC_Score:  0.9872222222222222\n",
            "\n",
            "******** For i = 0.6 ******\n",
            "Precision:  1.0\n",
            "Recall:  0.65\n",
            "F2_score:  0.6989247311827956\n",
            "ROC_AUC_Score:  0.9872222222222222\n",
            "\n",
            "******** For i = 0.7 ******\n",
            "Precision:  1.0\n",
            "Recall:  0.45\n",
            "F2_score:  0.5056179775280899\n",
            "ROC_AUC_Score:  0.9872222222222222\n",
            "\n",
            "******** For i = 0.8 ******\n",
            "Precision:  1.0\n",
            "Recall:  0.25\n",
            "F2_score:  0.29411764705882354\n",
            "ROC_AUC_Score:  0.9872222222222222\n",
            "\n",
            "******** For i = 0.9 ******\n",
            "Precision:  1.0\n",
            "Recall:  0.2\n",
            "F2_score:  0.23809523809523808\n",
            "ROC_AUC_Score:  0.9872222222222222\n"
          ]
        }
      ]
    },
    {
      "cell_type": "code",
      "source": [
        "for coef, column in sorted(zip(lr.coef_.ravel(), train_data.columns),key=lambda x: abs(x[0]), reverse=True):\n",
        "    print(coef, column)"
      ],
      "metadata": {
        "colab": {
          "base_uri": "https://localhost:8080/"
        },
        "id": "tfkv2cSyEtgC",
        "outputId": "0d6b9b0c-6c10-47c6-efe7-87a931ac5d56"
      },
      "execution_count": null,
      "outputs": [
        {
          "output_type": "stream",
          "name": "stdout",
          "text": [
            "2.133627935992519 X1_1\n",
            "1.1099678673717357 X5_1\n",
            "0.36380499902486685 X11_1\n",
            "-0.19178037144424454 X10_1\n",
            "0.1231942358234957 X7_1\n",
            "0.07339667849779904 X2_1\n",
            "-0.06701466638810814 X3_1\n",
            "-0.060642706822032384 X4_1\n",
            "0.02506238163690833 X9_1\n",
            "0.011871473879657741 X8_1\n",
            "0.009534617126063474 X6_1\n",
            "0.0 Unnamed: 0\n"
          ]
        }
      ]
    },
    {
      "cell_type": "code",
      "source": [
        "precisions = []\n",
        "recalls = []\n",
        "threshold = [0.1, 0.2, 0.3, 0.4, 0.5, 0.6, 0.7, 0.8, 0.9, 1.0]\n",
        "\n",
        "def print_report(Y_true, model_pred_proba):\n",
        "    for i in threshold_list:\n",
        "        print ('\\n******** For i = {} ******'.format(i))\n",
        "        Y_test_pred = model_pred_proba.apply(lambda x: 1 if x>i else 0)\n",
        "        precision, recall, _ = precision_recall_curve(Y_true,Y_test_pred)\n",
        "        precisions.append(precision)\n",
        "        recalls.append(recall)\n",
        "        \n",
        "plt.plot(recalls, precisions, 'b', linestyle='-')\n",
        "plt.xlabel(\"Recall\")\n",
        "plt.ylabel(\"Precision\")\n",
        "plt.ylim([0.0, 1.05])\n",
        "plt.xlim([0.0, 1.0])\n",
        "plt.title(\"Precision-Recall Curve\")\n",
        "plt.legend(loc='best')\n",
        "plt.show()"
      ],
      "metadata": {
        "colab": {
          "base_uri": "https://localhost:8080/",
          "height": 313
        },
        "id": "Ya2-mk6zUWEB",
        "outputId": "10000bf4-1370-4cc1-cae0-638ded1c4b87"
      },
      "execution_count": null,
      "outputs": [
        {
          "output_type": "stream",
          "name": "stderr",
          "text": [
            "WARNING:matplotlib.legend:No handles with labels found to put in legend.\n"
          ]
        },
        {
          "output_type": "display_data",
          "data": {
            "text/plain": [
              "<Figure size 432x288 with 1 Axes>"
            ],
            "image/png": "[encoded data removed]"
          },
          "metadata": {
            "needs_background": "light"
          }
        }
      ]
    },
    {
      "cell_type": "markdown",
      "source": [
        "LSTM MODEL\n"
      ],
      "metadata": {
        "id": "GCp-1-ThEK0F"
      }
    },
    {
      "cell_type": "code",
      "source": [
        "import pandas as pd\n",
        "import matplotlib.pyplot as plt\n",
        "from sklearn.model_selection import train_test_split\n",
        "from sklearn.preprocessing import MinMaxScaler\n",
        "import tensorflow as tf\n",
        "from imblearn.over_sampling import SMOTE\n",
        "from keras.models import load_model\n",
        "from keras.models import Sequential\n",
        "from keras.layers import Dense, Dropout, Activation, LSTM\n",
        "from tensorflow.keras.layers import BatchNormalization\n",
        "from keras.optimizers import Adam\n",
        "from keras.callbacks import EarlyStopping, ModelCheckpoint\n",
        "from sklearn.metrics import roc_auc_score, precision_score\n",
        "from sklearn import metrics \n",
        "import numpy as np\n",
        "from itertools import chain"
      ],
      "metadata": {
        "id": "OuHog30GEJAV"
      },
      "execution_count": null,
      "outputs": []
    },
    {
      "cell_type": "code",
      "source": [
        "train = pd.read_csv(\"kenya_train\")\n",
        "val = pd.read_csv(\"kenya_val\")\n",
        "test = pd.read_csv(\"kenya_test\")"
      ],
      "metadata": {
        "id": "YxFA1JSYFyUh"
      },
      "execution_count": null,
      "outputs": []
    },
    {
      "cell_type": "code",
      "source": [
        "train.head()"
      ],
      "metadata": {
        "colab": {
          "base_uri": "https://localhost:8080/",
          "height": 250
        },
        "id": "tLVfUM-8Fw6_",
        "outputId": "1641af6b-a135-49f5-ae13-84aa14c33499"
      },
      "execution_count": null,
      "outputs": [
        {
          "output_type": "execute_result",
          "data": {
            "text/plain": [
              "   Unnamed: 0  X1_1  X2_1  X3_1   X4_1  X5_1  X6_1  X7_1  X8_1  X9_1  X10_1  \\\n",
              "0           0  0.53  0.81  4.15  11.71  0.38  2.49  0.83  0.07  1.18  -0.09   \n",
              "1           0  0.73  0.68  4.13   6.87  0.63  2.24  0.79  0.13  0.49  -0.02   \n",
              "2           0  0.71  0.68  5.88   5.18  0.62  1.41  0.67 -0.15  0.40   0.21   \n",
              "3           0  1.09  1.07  9.87   6.72  0.93  0.00  0.47 -0.33  0.49  -0.24   \n",
              "4           0  1.50  1.21  9.24   7.38  1.23  0.00  0.49 -0.34  0.50  -0.44   \n",
              "\n",
              "   X11_1  Status  \n",
              "0   0.21       0  \n",
              "1   0.14       0  \n",
              "2   0.12       0  \n",
              "3   0.26       1  \n",
              "4   0.33       1  "
            ],
            "text/html": [
              "\n",
              "  <div id=\"df-cabbc7ce-4a5d-4f1e-8a92-b51185d84c96\">\n",
              "    <div class=\"colab-df-container\">\n",
              "      <div>\n",
              "<style scoped>\n",
              "    .dataframe tbody tr th:only-of-type {\n",
              "        vertical-align: middle;\n",
              "    }\n",
              "\n",
              "    .dataframe tbody tr th {\n",
              "        vertical-align: top;\n",
              "    }\n",
              "\n",
              "    .dataframe thead th {\n",
              "        text-align: right;\n",
              "    }\n",
              "</style>\n",
              "<table border=\"1\" class=\"dataframe\">\n",
              "  <thead>\n",
              "    <tr style=\"text-align: right;\">\n",
              "      <th></th>\n",
              "      <th>Unnamed: 0</th>\n",
              "      <th>X1_1</th>\n",
              "      <th>X2_1</th>\n",
              "      <th>X3_1</th>\n",
              "      <th>X4_1</th>\n",
              "      <th>X5_1</th>\n",
              "      <th>X6_1</th>\n",
              "      <th>X7_1</th>\n",
              "      <th>X8_1</th>\n",
              "      <th>X9_1</th>\n",
              "      <th>X10_1</th>\n",
              "      <th>X11_1</th>\n",
              "      <th>Status</th>\n",
              "    </tr>\n",
              "  </thead>\n",
              "  <tbody>\n",
              "    <tr>\n",
              "      <th>0</th>\n",
              "      <td>0</td>\n",
              "      <td>0.53</td>\n",
              "      <td>0.81</td>\n",
              "      <td>4.15</td>\n",
              "      <td>11.71</td>\n",
              "      <td>0.38</td>\n",
              "      <td>2.49</td>\n",
              "      <td>0.83</td>\n",
              "      <td>0.07</td>\n",
              "      <td>1.18</td>\n",
              "      <td>-0.09</td>\n",
              "      <td>0.21</td>\n",
              "      <td>0</td>\n",
              "    </tr>\n",
              "    <tr>\n",
              "      <th>1</th>\n",
              "      <td>0</td>\n",
              "      <td>0.73</td>\n",
              "      <td>0.68</td>\n",
              "      <td>4.13</td>\n",
              "      <td>6.87</td>\n",
              "      <td>0.63</td>\n",
              "      <td>2.24</td>\n",
              "      <td>0.79</td>\n",
              "      <td>0.13</td>\n",
              "      <td>0.49</td>\n",
              "      <td>-0.02</td>\n",
              "      <td>0.14</td>\n",
              "      <td>0</td>\n",
              "    </tr>\n",
              "    <tr>\n",
              "      <th>2</th>\n",
              "      <td>0</td>\n",
              "      <td>0.71</td>\n",
              "      <td>0.68</td>\n",
              "      <td>5.88</td>\n",
              "      <td>5.18</td>\n",
              "      <td>0.62</td>\n",
              "      <td>1.41</td>\n",
              "      <td>0.67</td>\n",
              "      <td>-0.15</td>\n",
              "      <td>0.40</td>\n",
              "      <td>0.21</td>\n",
              "      <td>0.12</td>\n",
              "      <td>0</td>\n",
              "    </tr>\n",
              "    <tr>\n",
              "      <th>3</th>\n",
              "      <td>0</td>\n",
              "      <td>1.09</td>\n",
              "      <td>1.07</td>\n",
              "      <td>9.87</td>\n",
              "      <td>6.72</td>\n",
              "      <td>0.93</td>\n",
              "      <td>0.00</td>\n",
              "      <td>0.47</td>\n",
              "      <td>-0.33</td>\n",
              "      <td>0.49</td>\n",
              "      <td>-0.24</td>\n",
              "      <td>0.26</td>\n",
              "      <td>1</td>\n",
              "    </tr>\n",
              "    <tr>\n",
              "      <th>4</th>\n",
              "      <td>0</td>\n",
              "      <td>1.50</td>\n",
              "      <td>1.21</td>\n",
              "      <td>9.24</td>\n",
              "      <td>7.38</td>\n",
              "      <td>1.23</td>\n",
              "      <td>0.00</td>\n",
              "      <td>0.49</td>\n",
              "      <td>-0.34</td>\n",
              "      <td>0.50</td>\n",
              "      <td>-0.44</td>\n",
              "      <td>0.33</td>\n",
              "      <td>1</td>\n",
              "    </tr>\n",
              "  </tbody>\n",
              "</table>\n",
              "</div>\n",
              "      <button class=\"colab-df-convert\" onclick=\"convertToInteractive('df-cabbc7ce-4a5d-4f1e-8a92-b51185d84c96')\"\n",
              "              title=\"Convert this dataframe to an interactive table.\"\n",
              "              style=\"display:none;\">\n",
              "        \n",
              "  <svg xmlns=\"http://www.w3.org/2000/svg\" height=\"24px\"viewBox=\"0 0 24 24\"\n",
              "       width=\"24px\">\n",
              "    <path d=\"M0 0h24v24H0V0z\" fill=\"none\"/>\n",
              "    <path d=\"M18.56 5.44l.94 2.06.94-2.06 2.06-.94-2.06-.94-.94-2.06-.94 2.06-2.06.94zm-11 1L8.5 8.5l.94-2.06 2.06-.94-2.06-.94L8.5 2.5l-.94 2.06-2.06.94zm10 10l.94 2.06.94-2.06 2.06-.94-2.06-.94-.94-2.06-.94 2.06-2.06.94z\"/><path d=\"M17.41 7.96l-1.37-1.37c-.4-.4-.92-.59-1.43-.59-.52 0-1.04.2-1.43.59L10.3 9.45l-7.72 7.72c-.78.78-.78 2.05 0 2.83L4 21.41c.39.39.9.59 1.41.59.51 0 1.02-.2 1.41-.59l7.78-7.78 2.81-2.81c.8-.78.8-2.07 0-2.86zM5.41 20L4 18.59l7.72-7.72 1.47 1.35L5.41 20z\"/>\n",
              "  </svg>\n",
              "      </button>\n",
              "      \n",
              "  <style>\n",
              "    .colab-df-container {\n",
              "      display:flex;\n",
              "      flex-wrap:wrap;\n",
              "      gap: 12px;\n",
              "    }\n",
              "\n",
              "    .colab-df-convert {\n",
              "      background-color: #E8F0FE;\n",
              "      border: none;\n",
              "      border-radius: 50%;\n",
              "      cursor: pointer;\n",
              "      display: none;\n",
              "      fill: #1967D2;\n",
              "      height: 32px;\n",
              "      padding: 0 0 0 0;\n",
              "      width: 32px;\n",
              "    }\n",
              "\n",
              "    .colab-df-convert:hover {\n",
              "      background-color: #E2EBFA;\n",
              "      box-shadow: 0px 1px 2px rgba(60, 64, 67, 0.3), 0px 1px 3px 1px rgba(60, 64, 67, 0.15);\n",
              "      fill: #174EA6;\n",
              "    }\n",
              "\n",
              "    [theme=dark] .colab-df-convert {\n",
              "      background-color: #3B4455;\n",
              "      fill: #D2E3FC;\n",
              "    }\n",
              "\n",
              "    [theme=dark] .colab-df-convert:hover {\n",
              "      background-color: #434B5C;\n",
              "      box-shadow: 0px 1px 3px 1px rgba(0, 0, 0, 0.15);\n",
              "      filter: drop-shadow(0px 1px 2px rgba(0, 0, 0, 0.3));\n",
              "      fill: #FFFFFF;\n",
              "    }\n",
              "  </style>\n",
              "\n",
              "      <script>\n",
              "        const buttonEl =\n",
              "          document.querySelector('#df-cabbc7ce-4a5d-4f1e-8a92-b51185d84c96 button.colab-df-convert');\n",
              "        buttonEl.style.display =\n",
              "          google.colab.kernel.accessAllowed ? 'block' : 'none';\n",
              "\n",
              "        async function convertToInteractive(key) {\n",
              "          const element = document.querySelector('#df-cabbc7ce-4a5d-4f1e-8a92-b51185d84c96');\n",
              "          const dataTable =\n",
              "            await google.colab.kernel.invokeFunction('convertToInteractive',\n",
              "                                                     [key], {});\n",
              "          if (!dataTable) return;\n",
              "\n",
              "          const docLinkHtml = 'Like what you see? Visit the ' +\n",
              "            '<a target=\"_blank\" href=https://colab.research.google.com/notebooks/data_table.ipynb>data table notebook</a>'\n",
              "            + ' to learn more about interactive tables.';\n",
              "          element.innerHTML = '';\n",
              "          dataTable['output_type'] = 'display_data';\n",
              "          await google.colab.output.renderOutput(dataTable, element);\n",
              "          const docLink = document.createElement('div');\n",
              "          docLink.innerHTML = docLinkHtml;\n",
              "          element.appendChild(docLink);\n",
              "        }\n",
              "      </script>\n",
              "    </div>\n",
              "  </div>\n",
              "  "
            ]
          },
          "metadata": {},
          "execution_count": 54
        }
      ]
    },
    {
      "cell_type": "code",
      "source": [
        "#drop unnecessary column\n",
        "train.drop(['Unnamed: 0'], axis = 1, inplace = True)\n",
        "val.drop(['Unnamed: 0'], axis = 1, inplace = True)\n",
        "test.drop(['Unnamed: 0'], axis = 1, inplace = True)"
      ],
      "metadata": {
        "id": "totKUMkrF6eE"
      },
      "execution_count": null,
      "outputs": []
    },
    {
      "cell_type": "code",
      "source": [
        "train.shape"
      ],
      "metadata": {
        "colab": {
          "base_uri": "https://localhost:8080/"
        },
        "id": "dncxxEPkGIZr",
        "outputId": "41d5b09f-4eae-4332-9be9-b2ac31428d2c"
      },
      "execution_count": null,
      "outputs": [
        {
          "output_type": "execute_result",
          "data": {
            "text/plain": [
              "(220, 12)"
            ]
          },
          "metadata": {},
          "execution_count": 56
        }
      ]
    },
    {
      "cell_type": "code",
      "source": [
        "y_train = train.iloc[:, -1]\n",
        "x_train = train.iloc[:, :11]\n",
        "#oversample the positive classes by SMOTE\n",
        "x_train, y_train = SMOTE().fit_resample(x_train, y_train)\n",
        "#normalise the data\n",
        "x_train = MinMaxScaler().fit_transform(x_train) \n",
        "y_train = y_train.astype('int')\n",
        "#reshape the data to 3 dimensions by num of rows, num of quarters and num of columns\n",
        "x_train = x_train.reshape(x_train.shape[0], 1, 11)"
      ],
      "metadata": {
        "id": "ZYccrV1kGJr-"
      },
      "execution_count": null,
      "outputs": []
    },
    {
      "cell_type": "code",
      "source": [
        "y_val = val.iloc[:, -1]\n",
        "x_val = val.iloc[:, :11]\n",
        "x_val = MinMaxScaler().fit_transform(x_val) \n",
        "y_val = y_val.astype('int')\n",
        "x_val = x_val.reshape(x_val.shape[0], 1, 11)"
      ],
      "metadata": {
        "id": "KiUplQ2uHoso"
      },
      "execution_count": null,
      "outputs": []
    },
    {
      "cell_type": "code",
      "source": [
        "y_test = test.iloc[:, -1]\n",
        "x_test = test.iloc[:, :11]\n",
        "x_test = MinMaxScaler().fit_transform(x_test) \n",
        "y_test = y_test.astype('int')\n",
        "x_test = x_test.reshape(x_test.shape[0], 1, 11)"
      ],
      "metadata": {
        "id": "1Omkz0chH6ux"
      },
      "execution_count": null,
      "outputs": []
    },
    {
      "cell_type": "code",
      "source": [
        "pd.DataFrame(y_train).Status.value_counts()"
      ],
      "metadata": {
        "colab": {
          "base_uri": "https://localhost:8080/"
        },
        "id": "clml01-MIBJe",
        "outputId": "d1f80a4a-afcf-4379-e6ee-6f0ce256a508"
      },
      "execution_count": null,
      "outputs": [
        {
          "output_type": "execute_result",
          "data": {
            "text/plain": [
              "0    135\n",
              "1    135\n",
              "Name: Status, dtype: int64"
            ]
          },
          "metadata": {},
          "execution_count": 60
        }
      ]
    },
    {
      "cell_type": "code",
      "source": [
        "pd.DataFrame(y_val).Status.value_counts()"
      ],
      "metadata": {
        "colab": {
          "base_uri": "https://localhost:8080/"
        },
        "id": "0mOA0zvfIJAB",
        "outputId": "bacb1789-e08d-4e55-c9db-981e016de4d4"
      },
      "execution_count": null,
      "outputs": [
        {
          "output_type": "execute_result",
          "data": {
            "text/plain": [
              "0    110\n",
              "1     55\n",
              "Name: Status, dtype: int64"
            ]
          },
          "metadata": {},
          "execution_count": 61
        }
      ]
    },
    {
      "cell_type": "code",
      "source": [
        "pd.DataFrame(y_test).Status.value_counts()"
      ],
      "metadata": {
        "colab": {
          "base_uri": "https://localhost:8080/"
        },
        "id": "vrKsHiT7IJOJ",
        "outputId": "4f1f5959-465a-469a-c065-e0326da8df2e"
      },
      "execution_count": null,
      "outputs": [
        {
          "output_type": "execute_result",
          "data": {
            "text/plain": [
              "0    90\n",
              "1    20\n",
              "Name: Status, dtype: int64"
            ]
          },
          "metadata": {},
          "execution_count": 62
        }
      ]
    },
    {
      "cell_type": "code",
      "source": [
        "def buildManyToOneModel(shape):\n",
        "    model = Sequential()\n",
        "    model.add(LSTM(128, input_shape=(shape[1], shape[2]), return_sequences = True))\n",
        "    model.add(Dropout(0.3))\n",
        "    model.add(LSTM(64, return_sequences = True, activation = 'tanh'))\n",
        "    model.add(Dropout(0.3))\n",
        "    model.add(LSTM(16, activation = 'tanh'))\n",
        "  \n",
        "    model.add(Dense(16, activation = 'tanh'))\n",
        "    # output shape: (1, 1)\n",
        "    model.add(Dense(1, activation = 'tanh'))\n",
        "              \n",
        "    opt = tf.keras.optimizers.Adam(learning_rate= 1e-2)\n",
        "    model.compile(loss=\"binary_crossentropy\", optimizer=opt)\n",
        "    model.summary()\n",
        "    return model\n",
        "\n",
        "model = buildManyToOneModel(x_train.shape)\n",
        "history = model.fit(x_train, y_train, epochs=3, batch_size=20, validation_data=(x_val, y_val))\n",
        "\n",
        "#loss curve\n",
        "plt.plot(history.history['loss'], label='train')\n",
        "plt.plot(history.history['val_loss'], label='test')\n",
        "plt.title('Loss Curve')\n",
        "plt.xlabel('No. of Epochs')\n",
        "plt.ylabel('Loss')\n",
        "plt.legend()\n",
        "plt.show()"
      ],
      "metadata": {
        "colab": {
          "base_uri": "https://localhost:8080/",
          "height": 813
        },
        "id": "uHxg6tttIT2V",
        "outputId": "a2e11ad5-c9e7-48a5-d177-25a68602b958"
      },
      "execution_count": null,
      "outputs": [
        {
          "output_type": "stream",
          "name": "stdout",
          "text": [
            "Model: \"sequential_5\"\n",
            "_________________________________________________________________\n",
            " Layer (type)                Output Shape              Param #   \n",
            "=================================================================\n",
            " lstm_17 (LSTM)              (None, 1, 128)            71680     \n",
            "                                                                 \n",
            " dropout_12 (Dropout)        (None, 1, 128)            0         \n",
            "                                                                 \n",
            " lstm_18 (LSTM)              (None, 1, 64)             49408     \n",
            "                                                                 \n",
            " dropout_13 (Dropout)        (None, 1, 64)             0         \n",
            "                                                                 \n",
            " lstm_19 (LSTM)              (None, 16)                5184      \n",
            "                                                                 \n",
            " dense_10 (Dense)            (None, 16)                272       \n",
            "                                                                 \n",
            " dense_11 (Dense)            (None, 1)                 17        \n",
            "                                                                 \n",
            "=================================================================\n",
            "Total params: 126,561\n",
            "Trainable params: 126,561\n",
            "Non-trainable params: 0\n",
            "_________________________________________________________________\n",
            "Epoch 1/3\n",
            "14/14 [==============================] - 8s 111ms/step - loss: 2.7456 - val_loss: 0.8363\n",
            "Epoch 2/3\n",
            "14/14 [==============================] - 0s 10ms/step - loss: 0.6880 - val_loss: 0.6364\n",
            "Epoch 3/3\n",
            "14/14 [==============================] - 0s 9ms/step - loss: 0.6604 - val_loss: 0.6326\n"
          ]
        },
        {
          "output_type": "display_data",
          "data": {
            "text/plain": [
              "<Figure size 432x288 with 1 Axes>"
            ],
            "image/png": "[encoded data removed]"
          },
          "metadata": {
            "needs_background": "light"
          }
        }
      ]
    },
    {
      "cell_type": "code",
      "source": [
        "lstm_pred = model.predict(x_val)\n",
        "lstm_pred = np.ndarray.tolist(lstm_pred)\n",
        "#remove the list \n",
        "lstm_pred = list(chain.from_iterable(lstm_pred))\n",
        "len(lstm_pred)"
      ],
      "metadata": {
        "colab": {
          "base_uri": "https://localhost:8080/"
        },
        "id": "YW6yHe3uIfl3",
        "outputId": "ec788751-3dbd-4c48-f84c-a0e89289e86b"
      },
      "execution_count": null,
      "outputs": [
        {
          "output_type": "stream",
          "name": "stdout",
          "text": [
            "6/6 [==============================] - 1s 4ms/step\n"
          ]
        },
        {
          "output_type": "execute_result",
          "data": {
            "text/plain": [
              "165"
            ]
          },
          "metadata": {},
          "execution_count": 77
        }
      ]
    },
    {
      "cell_type": "code",
      "source": [
        "threshold = [0.1, 0.2, 0.3, 0.4, 0.5, 0.6, 0.7, 0.8, 0.9, 1.0]\n",
        "\n",
        "for th in threshold:\n",
        "    lstm_pred_int = [1 if i >= th else 0 for i in lstm_pred]\n",
        "    precision = metrics.precision_score(y_val, lstm_pred_int)\n",
        "    recall = metrics.recall_score(y_val, lstm_pred_int)\n",
        "    F2_score = metrics.fbeta_score(y_val, lstm_pred_int, beta = 2)\n",
        "    area_under_roc = roc_auc_score(y_val, lstm_pred)\n",
        "\n",
        "    print(f'\\n******** For i = {th} ****** \\n',\n",
        "          f'Precision: {precision} \\n',\n",
        "          f'Recall: {recall} \\n',\n",
        "          f'F2_score: {F2_score} \\n',\n",
        "          f'ROC_AUC_Score: {area_under_roc}')\n",
        "    lstm_pred_int = []"
      ],
      "metadata": {
        "colab": {
          "base_uri": "https://localhost:8080/"
        },
        "id": "ZgiL-emIIi-i",
        "outputId": "b6f08ab0-f671-43b7-d277-eeaa1666dbd2"
      },
      "execution_count": null,
      "outputs": [
        {
          "output_type": "stream",
          "name": "stdout",
          "text": [
            "\n",
            "******** For i = 0.1 ****** \n",
            " Precision: 0.3333333333333333 \n",
            " Recall: 1.0 \n",
            " F2_score: 0.7142857142857143 \n",
            " ROC_AUC_Score: 0.8528925619834712\n",
            "\n",
            "******** For i = 0.2 ****** \n",
            " Precision: 0.3333333333333333 \n",
            " Recall: 1.0 \n",
            " F2_score: 0.7142857142857143 \n",
            " ROC_AUC_Score: 0.8528925619834712\n",
            "\n",
            "******** For i = 0.3 ****** \n",
            " Precision: 0.3353658536585366 \n",
            " Recall: 1.0 \n",
            " F2_score: 0.7161458333333333 \n",
            " ROC_AUC_Score: 0.8528925619834712\n",
            "\n",
            "******** For i = 0.4 ****** \n",
            " Precision: 0.3673469387755102 \n",
            " Recall: 0.9818181818181818 \n",
            " F2_score: 0.7356948228882835 \n",
            " ROC_AUC_Score: 0.8528925619834712\n",
            "\n",
            "******** For i = 0.5 ****** \n",
            " Precision: 0.775 \n",
            " Recall: 0.5636363636363636 \n",
            " F2_score: 0.5961538461538461 \n",
            " ROC_AUC_Score: 0.8528925619834712\n",
            "\n",
            "******** For i = 0.6 ****** \n",
            " Precision: 1.0 \n",
            " Recall: 0.01818181818181818 \n",
            " F2_score: 0.02262443438914027 \n",
            " ROC_AUC_Score: 0.8528925619834712\n",
            "\n",
            "******** For i = 0.7 ****** \n",
            " Precision: 1.0 \n",
            " Recall: 0.01818181818181818 \n",
            " F2_score: 0.02262443438914027 \n",
            " ROC_AUC_Score: 0.8528925619834712\n",
            "\n",
            "******** For i = 0.8 ****** \n",
            " Precision: 1.0 \n",
            " Recall: 0.01818181818181818 \n",
            " F2_score: 0.02262443438914027 \n",
            " ROC_AUC_Score: 0.8528925619834712\n",
            "\n",
            "******** For i = 0.9 ****** \n",
            " Precision: 0.0 \n",
            " Recall: 0.0 \n",
            " F2_score: 0.0 \n",
            " ROC_AUC_Score: 0.8528925619834712\n",
            "\n",
            "******** For i = 1.0 ****** \n",
            " Precision: 0.0 \n",
            " Recall: 0.0 \n",
            " F2_score: 0.0 \n",
            " ROC_AUC_Score: 0.8528925619834712\n"
          ]
        },
        {
          "output_type": "stream",
          "name": "stderr",
          "text": [
            "/usr/local/lib/python3.8/dist-packages/sklearn/metrics/_classification.py:1318: UndefinedMetricWarning: Precision is ill-defined and being set to 0.0 due to no predicted samples. Use `zero_division` parameter to control this behavior.\n",
            "  _warn_prf(average, modifier, msg_start, len(result))\n",
            "/usr/local/lib/python3.8/dist-packages/sklearn/metrics/_classification.py:1318: UndefinedMetricWarning: Precision is ill-defined and being set to 0.0 due to no predicted samples. Use `zero_division` parameter to control this behavior.\n",
            "  _warn_prf(average, modifier, msg_start, len(result))\n"
          ]
        }
      ]
    },
    {
      "cell_type": "code",
      "source": [
        "from sklearn.metrics import average_precision_score, precision_recall_curve\n",
        "average_precision = average_precision_score(y_val, lstm_pred)\n",
        "print(average_precision)"
      ],
      "metadata": {
        "colab": {
          "base_uri": "https://localhost:8080/"
        },
        "id": "qrlyH-1hs_PI",
        "outputId": "7db8d4b8-58ce-4fb1-8c02-eb2be2d3424d"
      },
      "execution_count": null,
      "outputs": [
        {
          "output_type": "stream",
          "name": "stdout",
          "text": [
            "0.7972378165902383\n"
          ]
        }
      ]
    },
    {
      "cell_type": "code",
      "source": [
        "precisions = []\n",
        "recalls = []\n",
        "threshold = [0.1, 0.2, 0.3, 0.4, 0.5, 0.6, 0.7, 0.8, 0.9, 1.0]\n",
        "\n",
        "for th in threshold:\n",
        "    lstm_pred_int = [1 if i >= th else 0 for i in lstm_pred]\n",
        "    precision = metrics.precision_score(y_val, lstm_pred_int)\n",
        "    recall = metrics.recall_score(y_val, lstm_pred_int)\n",
        "    precisions.append(precision)\n",
        "    recalls.append(recall)\n",
        "\n",
        "plt.plot(recalls, precisions, 'b')\n",
        "plt.xlabel(\"Recall\")\n",
        "plt.ylabel(\"Precision\")\n",
        "plt.title(\"Precision-Recall Curve\")\n",
        "plt.legend(loc='best')\n",
        "plt.show()"
      ],
      "metadata": {
        "colab": {
          "base_uri": "https://localhost:8080/",
          "height": 404
        },
        "id": "M0LSr_KJE1Et",
        "outputId": "eab2f4b5-6f06-44ec-893f-07c60e633e23"
      },
      "execution_count": null,
      "outputs": [
        {
          "output_type": "stream",
          "name": "stderr",
          "text": [
            "/usr/local/lib/python3.8/dist-packages/sklearn/metrics/_classification.py:1318: UndefinedMetricWarning: Precision is ill-defined and being set to 0.0 due to no predicted samples. Use `zero_division` parameter to control this behavior.\n",
            "  _warn_prf(average, modifier, msg_start, len(result))\n",
            "/usr/local/lib/python3.8/dist-packages/sklearn/metrics/_classification.py:1318: UndefinedMetricWarning: Precision is ill-defined and being set to 0.0 due to no predicted samples. Use `zero_division` parameter to control this behavior.\n",
            "  _warn_prf(average, modifier, msg_start, len(result))\n",
            "WARNING:matplotlib.legend:No handles with labels found to put in legend.\n"
          ]
        },
        {
          "output_type": "display_data",
          "data": {
            "text/plain": [
              "<Figure size 432x288 with 1 Axes>"
            ],
            "image/png": "[encoded data removed]"
          },
          "metadata": {
            "needs_background": "light"
          }
        }
      ]
    },
    {
      "cell_type": "code",
      "source": [],
      "metadata": {
        "id": "tJKpGU3vrv_k"
      },
      "execution_count": null,
      "outputs": []
    },
    {
      "cell_type": "code",
      "source": [
        "model.save('kenya_distress_lstm_model.h5')"
      ],
      "metadata": {
        "id": "sIkaJSEEI-EN"
      },
      "execution_count": null,
      "outputs": []
    },
    {
      "cell_type": "code",
      "source": [
        "model = load_model('kenya_distress_lstm_model.h5')"
      ],
      "metadata": {
        "id": "y118LBUiJFkm"
      },
      "execution_count": null,
      "outputs": []
    },
    {
      "cell_type": "code",
      "source": [
        "#predict on test_data\n",
        "y_pred  = model.predict(x_test.reshape(x_test.shape[0], 1, 11))"
      ],
      "metadata": {
        "colab": {
          "base_uri": "https://localhost:8080/"
        },
        "id": "hczqyUApJMIQ",
        "outputId": "21990336-a143-4c25-ab30-953dc77c9372"
      },
      "execution_count": null,
      "outputs": [
        {
          "output_type": "stream",
          "name": "stdout",
          "text": [
            "4/4 [==============================] - 2s 4ms/step\n"
          ]
        }
      ]
    },
    {
      "cell_type": "code",
      "source": [
        "#test_data by different thresholds\n",
        "\n",
        "threshold = [0.1, 0.2, 0.3, 0.4, 0.5, 0.6, 0.7, 0.8, 0.9, 1.0]\n",
        "\n",
        "for th in threshold:\n",
        "    \n",
        "    y_class = [1 if i >= th else 0 for i in y_pred] \n",
        "    precision = metrics.precision_score(y_test, y_class)\n",
        "    recall = metrics.recall_score(y_test, y_class)\n",
        "    F2_score = metrics.fbeta_score(y_test, y_class, beta = 2)\n",
        "    area_under_roc = roc_auc_score(y_test, y_pred)\n",
        "\n",
        "    print(f'\\n******** For i = {th} ****** \\n',\n",
        "          f'Precision: {precision} \\n',\n",
        "          f'Recall: {recall} \\n',\n",
        "          f'F2_score: {F2_score} \\n',\n",
        "          f'ROC_AUC_Score: {area_under_roc}')"
      ],
      "metadata": {
        "colab": {
          "base_uri": "https://localhost:8080/"
        },
        "id": "vaPxR01xJR62",
        "outputId": "2a5111f5-a3d9-4482-ed0a-28ccda3af282"
      },
      "execution_count": null,
      "outputs": [
        {
          "output_type": "stream",
          "name": "stdout",
          "text": [
            "\n",
            "******** For i = 0.1 ****** \n",
            " Precision: 0.37254901960784315 \n",
            " Recall: 0.95 \n",
            " F2_score: 0.7251908396946564 \n",
            " ROC_AUC_Score: 0.9377777777777778\n",
            "\n",
            "******** For i = 0.2 ****** \n",
            " Precision: 0.3958333333333333 \n",
            " Recall: 0.95 \n",
            " F2_score: 0.7421874999999999 \n",
            " ROC_AUC_Score: 0.9377777777777778\n",
            "\n",
            "******** For i = 0.3 ****** \n",
            " Precision: 0.48717948717948717 \n",
            " Recall: 0.95 \n",
            " F2_score: 0.7983193277310924 \n",
            " ROC_AUC_Score: 0.9377777777777778\n",
            "\n",
            "******** For i = 0.4 ****** \n",
            " Precision: 0.6538461538461539 \n",
            " Recall: 0.85 \n",
            " F2_score: 0.8018867924528301 \n",
            " ROC_AUC_Score: 0.9377777777777778\n",
            "\n",
            "******** For i = 0.5 ****** \n",
            " Precision: 0.7142857142857143 \n",
            " Recall: 0.75 \n",
            " F2_score: 0.7425742574257427 \n",
            " ROC_AUC_Score: 0.9377777777777778\n",
            "\n",
            "******** For i = 0.6 ****** \n",
            " Precision: 0.7222222222222222 \n",
            " Recall: 0.65 \n",
            " F2_score: 0.663265306122449 \n",
            " ROC_AUC_Score: 0.9377777777777778\n",
            "\n",
            "******** For i = 0.7 ****** \n",
            " Precision: 1.0 \n",
            " Recall: 0.65 \n",
            " F2_score: 0.6989247311827956 \n",
            " ROC_AUC_Score: 0.9377777777777778\n"
          ]
        }
      ]
    },
    {
      "cell_type": "code",
      "source": [
        "from sklearn.metrics import average_precision_score, precision_recall_curve\n",
        "average_precision = average_precision_score(y_test, y_pred)\n",
        "print(average_precision)"
      ],
      "metadata": {
        "colab": {
          "base_uri": "https://localhost:8080/"
        },
        "id": "6XxHzjr3tcEo",
        "outputId": "d39dd672-a0f5-4770-b7ec-e2d5036c5597"
      },
      "execution_count": null,
      "outputs": [
        {
          "output_type": "stream",
          "name": "stdout",
          "text": [
            "0.8718959091371865\n"
          ]
        }
      ]
    },
    {
      "cell_type": "code",
      "source": [
        "precisions = []\n",
        "recalls = []\n",
        "threshold = [0.1, 0.2, 0.3, 0.4, 0.5, 0.6, 0.7, 0.8, 0.9, 1.0]\n",
        "\n",
        "for th in threshold:\n",
        "    \n",
        "    y_class = [1 if i >= th else 0 for i in y_pred] \n",
        "    precision = metrics.precision_score(y_test, y_class)\n",
        "    recall = metrics.recall_score(y_test, y_class)\n",
        "    precisions.append(precision)\n",
        "    recalls.append(recall)\n",
        "\n",
        "plt.plot(recalls, precisions, 'b')\n",
        "plt.xlabel(\"Recall\")\n",
        "plt.ylabel(\"Precision\")\n",
        "plt.title(\"Precision-Recall Curve\")\n",
        "plt.show()"
      ],
      "metadata": {
        "colab": {
          "base_uri": "https://localhost:8080/",
          "height": 351
        },
        "id": "hmxrLJwk_FwX",
        "outputId": "c0f4b8d7-26e7-4c00-d4e9-4370f8a62aa6"
      },
      "execution_count": null,
      "outputs": [
        {
          "output_type": "stream",
          "name": "stderr",
          "text": [
            "/usr/local/lib/python3.8/dist-packages/sklearn/metrics/_classification.py:1318: UndefinedMetricWarning: Precision is ill-defined and being set to 0.0 due to no predicted samples. Use `zero_division` parameter to control this behavior.\n",
            "  _warn_prf(average, modifier, msg_start, len(result))\n"
          ]
        },
        {
          "output_type": "display_data",
          "data": {
            "text/plain": [
              "<Figure size 432x288 with 1 Axes>"
            ],
            "image/png": "[encoded data removed]"
          },
          "metadata": {
            "needs_background": "light"
          }
        }
      ]
    }
  ]
}